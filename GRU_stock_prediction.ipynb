{
  "nbformat": 4,
  "nbformat_minor": 0,
  "metadata": {
    "colab": {
      "name": "GRU-stock-prediction.ipynb",
      "provenance": [],
      "collapsed_sections": []
    },
    "kernelspec": {
      "name": "python3",
      "display_name": "Python 3"
    },
    "accelerator": "GPU"
  },
  "cells": [
    {
      "cell_type": "markdown",
      "metadata": {
        "id": "_sbxpN8jRHG8"
      },
      "source": [
        "PyTorch GRU based stock prediction model. Inspired by this Medium [article](https://towardsdatascience.com/lstm-time-series-forecasting-predicting-stock-prices-using-an-lstm-model-6223e9644a2f) and this Kaggle [post](https://www.kaggle.com/taronzakaryan/stock-prediction-lstm-using-pytorch) on stock prediction. I wanted to benchmark how a GRU performed compared to the LSTMs used previously."
      ]
    },
    {
      "cell_type": "code",
      "metadata": {
        "colab": {
          "base_uri": "https://localhost:8080/"
        },
        "id": "LIR4MstFNl2v",
        "outputId": "7a5287a9-2ae0-4cc8-fa96-2991929b39be"
      },
      "source": [
        "from google.colab import drive\r\n",
        "drive.mount('/content/gdrive')\r\n",
        "\r\n",
        "!ls \"/content/gdrive/My Drive/GRU Stock Prediction/datasets\"\r\n",
        "\r\n",
        "PATH = '/content/gdrive/My Drive/GRU Stock Prediction/datasets/{symbol}'"
      ],
      "execution_count": 2,
      "outputs": [
        {
          "output_type": "stream",
          "text": [
            "Mounted at /content/gdrive\n",
            "TSLA.csv\n"
          ],
          "name": "stdout"
        }
      ]
    },
    {
      "cell_type": "code",
      "metadata": {
        "id": "oe5IJRZVPWET"
      },
      "source": [
        "import os\r\n",
        "import math\r\n",
        "import random\r\n",
        "import time\r\n",
        "import datetime\r\n",
        "import pandas as pd\r\n",
        "import numpy as np\r\n",
        "import matplotlib.pyplot as plt\r\n",
        "from sklearn.preprocessing import MinMaxScaler\r\n",
        "\r\n",
        "import torch\r\n",
        "import torch.nn as nn\r\n",
        "import torch.nn.functional as F\r\n",
        "import torch.optim as optim\r\n",
        "from torch.utils.data import TensorDataset, DataLoader"
      ],
      "execution_count": 3,
      "outputs": []
    },
    {
      "cell_type": "code",
      "metadata": {
        "colab": {
          "base_uri": "https://localhost:8080/",
          "height": 398
        },
        "id": "mSKnU1ynQywl",
        "outputId": "d31f55e7-c2c9-4fdf-8f25-6289d7a48614"
      },
      "source": [
        "def fetch_df(symbols, dates, scale=True):\r\n",
        "    '''\r\n",
        "    csv loader and scaler for dataset\r\n",
        "    source: https://blog.floydhub.com/gru-with-pytorch/\r\n",
        "    '''\r\n",
        "    df = pd.DataFrame(index=dates)\r\n",
        "    label_scalers = {}\r\n",
        "\r\n",
        "    for symbol in symbols:\r\n",
        "        df_temp = pd.read_csv(PATH.format(symbol=symbol+'.csv'), index_col='Date', parse_dates=True, usecols=['Date', 'Close'], na_values=['nan'])\r\n",
        "        df_temp = df_temp.rename(columns={'Close': symbol})\r\n",
        "        df = df.join(df_temp)\r\n",
        "        if scale:\r\n",
        "            # normalize input features\r\n",
        "            sc = MinMaxScaler()\r\n",
        "            label_sc = MinMaxScaler()\r\n",
        "            data = sc.fit_transform(df_temp.values) \r\n",
        "\r\n",
        "            # store scaling for the labels when evaluating output\r\n",
        "            label_sc.fit(df.iloc[:,0].values.reshape(-1,1))\r\n",
        "            label_scalers[symbol] = label_sc\r\n",
        "\r\n",
        "    return df\r\n",
        "\r\n",
        "symbols = ['TSLA']\r\n",
        "dates = pd.date_range(start='2015-07-10',end='2020-07-10',freq='B')\r\n",
        "df = fetch_df(symbols, dates)\r\n",
        "\r\n",
        "print('Data shape:',df.shape)\r\n",
        "print(df.head(5))\r\n",
        "\r\n",
        "df = df.fillna(method='ffill')\r\n",
        "df.interpolate().plot()\r\n",
        "plt.xlabel('Date')\r\n",
        "plt.ylabel('Close')\r\n",
        "plt.show()"
      ],
      "execution_count": 4,
      "outputs": [
        {
          "output_type": "stream",
          "text": [
            "Data shape: (1306, 1)\n",
            "                 TSLA\n",
            "2015-07-10  51.830002\n",
            "2015-07-13  52.431999\n",
            "2015-07-14  53.130001\n",
            "2015-07-15  52.627998\n",
            "2015-07-16  53.335999\n"
          ],
          "name": "stdout"
        },
        {
          "output_type": "display_data",
          "data": {
            "image/png": "[encoded data removed]",
            "text/plain": [
              "<Figure size 432x288 with 1 Axes>"
            ]
          },
          "metadata": {
            "tags": [],
            "needs_background": "light"
          }
        }
      ]
    },
    {
      "cell_type": "markdown",
      "metadata": {
        "id": "kzpyB1nkTJdg"
      },
      "source": [
        "Split into test and training sets. "
      ]
    },
    {
      "cell_type": "code",
      "metadata": {
        "colab": {
          "base_uri": "https://localhost:8080/"
        },
        "id": "82l00NFhOBWW",
        "outputId": "6fb3a8ba-a841-4035-8ca4-5fe4ffae56ff"
      },
      "source": [
        "# def min_max_scalar(x, feature_range=(0,1), dim=0):\r\n",
        "#     '''\r\n",
        "#     replicates behaviour of sklearn.preprocessing.MinMaxScalar\r\n",
        "#     '''\r\n",
        "#     x_std = (x - x.min(dim, keepdim=True).values) / (x.max(dim, keepdim=True).values - x.min(dim, keepdim=True).values)\r\n",
        "#     x_scaled = x_std * (feature_range[1] - feature_range[0]) + feature_range[0]\r\n",
        "#     return x_scaled, x_std\r\n",
        "\r\n",
        "\r\n",
        "def symbol_loader(df, symbol, lookback=20, test_split=0.2, shuffle=False):\r\n",
        "    '''\r\n",
        "    convert df of symbol close prices to a tensor array with (n-lookback) sequences of `lookback`\r\n",
        "    '''\r\n",
        "    price = torch.tensor(df[symbol].values)\r\n",
        "    T = len(price) - lookback\r\n",
        "    data = torch.zeros(T, lookback)\r\n",
        "\r\n",
        "    for i in range(T):\r\n",
        "        data[i,:] = price[i:i+lookback]\r\n",
        "    \r\n",
        "    test_size = int(test_split * T)\r\n",
        "    train_size = T - test_size\r\n",
        "\r\n",
        "    idx = list(range(T))\r\n",
        "\r\n",
        "    if shuffle:\r\n",
        "        random.shuffle(idx)\r\n",
        "\r\n",
        "    print(data.shape)\r\n",
        "    data = data.view(T, -1, 1)\r\n",
        "    print(data.shape)\r\n",
        "\r\n",
        "    x_train = data[idx[:train_size], :-1, :]\r\n",
        "    y_train = data[idx[:train_size], -1, :]\r\n",
        "    x_test = data[idx[train_size:test_size+train_size], :-1, :]\r\n",
        "    y_test = data[idx[train_size:test_size+train_size], -1, :]\r\n",
        "\r\n",
        "    return x_train, y_train, x_test, y_test, idx\r\n",
        "\r\n",
        "\r\n",
        "lookback = 20\r\n",
        "x_train, y_train, x_test, y_test, idx = symbol_loader(df, 'TSLA', lookback)\r\n",
        "\r\n",
        "print('x_train.shape:', x_train.shape)\r\n",
        "print('y_train.shape:', y_train.shape)\r\n",
        "print('x_test.shape:', x_test.shape)\r\n",
        "print('y_test.shape:', y_test.shape)"
      ],
      "execution_count": 5,
      "outputs": [
        {
          "output_type": "stream",
          "text": [
            "torch.Size([1286, 20])\n",
            "torch.Size([1286, 20, 1])\n",
            "x_train.shape: torch.Size([1029, 19, 1])\n",
            "y_train.shape: torch.Size([1029, 1])\n",
            "x_test.shape: torch.Size([257, 19, 1])\n",
            "y_test.shape: torch.Size([257, 1])\n"
          ],
          "name": "stdout"
        }
      ]
    },
    {
      "cell_type": "code",
      "metadata": {
        "id": "zeMBJ1gFmA8g"
      },
      "source": [
        "class GRUNet(nn.Module):\r\n",
        "    def __init__(self, input_dim, hidden_dim, n_layers, output_dim, drop=0.2, bi=False):\r\n",
        "        super(GRUNet, self).__init__()\r\n",
        "        self.hidden_dim = hidden_dim\r\n",
        "        self.n_layers = n_layers\r\n",
        "\r\n",
        "        # n_layers stacked GRU cells - dropout applied except last layer\r\n",
        "        self.gru = nn.GRU(input_dim, hidden_dim, n_layers, batch_first=True, dropout=drop, bidirectional=bi)\r\n",
        "        # ReLU activation\r\n",
        "        self.relu = nn.ReLU()\r\n",
        "        # fully connected final layer\r\n",
        "        self.fc = nn.Linear(hidden_dim, output_dim)\r\n",
        "    \r\n",
        "\r\n",
        "    def init_hidden(self, batch_size):\r\n",
        "        weight = next(self.parameters()).data\r\n",
        "        hidden = weight.new(self.n_layers, batch_size, self.hidden_dim).zero_().to(device)\r\n",
        "        return hidden\r\n",
        "\r\n",
        "\r\n",
        "    def forward(self, x, h):\r\n",
        "        x, h = self.gru(x,h)\r\n",
        "        x = self.fc(self.relu(x[:,-1]))\r\n",
        "        return x, h\r\n",
        "\r\n",
        "class LSTMNet(nn.Module):\r\n",
        "    def __init__(self, input_dim, hidden_dim, n_layers, output_dim, drop=0.2):\r\n",
        "        super(LSTMNet, self).__init__()\r\n",
        "        self.hidden_dim = hidden_dim\r\n",
        "        self.n_layers = n_layers\r\n",
        "\r\n",
        "        self.lstm = nn.LSTM(input_dim, hidden_dim, n_layers, batch_first=True, dropout=drop)\r\n",
        "        self.relu = nn.ReLU()\r\n",
        "        self.fc = nn.Linear(hidden_dim, output_dim)\r\n",
        "    \r\n",
        "\r\n",
        "    def init_hidden(self, batch_size):\r\n",
        "        weight = next(self.parameters()).data\r\n",
        "        hidden = (weight.new(self.n_layers, batch_size, self.hidden_dim).zero_().to(device), \r\n",
        "                  weight.new(self.n_layers, batch_size, self.hidden_dim).zero_().to(device))\r\n",
        "        return hidden\r\n",
        "\r\n",
        "\r\n",
        "    def forward(self, x, h):\r\n",
        "        x, h = self.lstm(x,h)\r\n",
        "        x = self.fc(self.relu(x[:,-1]))\r\n",
        "        return x, h\r\n"
      ],
      "execution_count": 6,
      "outputs": []
    },
    {
      "cell_type": "code",
      "metadata": {
        "id": "6PBYpfhemBTv"
      },
      "source": [
        "def model_summary(model):\r\n",
        "    print('Model Summary\\n')\r\n",
        "    print('Layer Name'+'\\t'*7+'Number of Parameters')\r\n",
        "    print('='*100)\r\n",
        "    model_parameters = [layer for layer in model.parameters() if layer.requires_grad]\r\n",
        "    layer_name = [child for child in model.children()]\r\n",
        "    j = 0\r\n",
        "    total_params = 0\r\n",
        "    print('\\t'*10)\r\n",
        "    for i in layer_name:\r\n",
        "        print()\r\n",
        "        param = 0\r\n",
        "        try:\r\n",
        "            bias = (i.bias is not None)\r\n",
        "        except:\r\n",
        "            bias = False  \r\n",
        "        if not bias:\r\n",
        "            param = model_parameters[j].numel()+model_parameters[j+1].numel()\r\n",
        "            j = j + 2\r\n",
        "        else:\r\n",
        "            param = model_parameters[j].numel()\r\n",
        "            j = j + 1\r\n",
        "        print(str(i)+'\\t'*3+str(param))\r\n",
        "        total_params+=param\r\n",
        "    print('='*100)\r\n",
        "    print(f'Total Params:{total_params}')\r\n"
      ],
      "execution_count": 7,
      "outputs": []
    },
    {
      "cell_type": "code",
      "metadata": {
        "id": "ESVLjAOJymiT"
      },
      "source": [
        "'''\r\n",
        "Set parameters, initialize dataloader\r\n",
        "'''\r\n",
        "device = torch.device(\"cuda:0\" if torch.cuda.is_available() else \"cpu\")\r\n",
        "\r\n",
        "batch_size = 4\r\n",
        "epochs = 50\r\n",
        "lr = 0.001\r\n",
        "\r\n",
        "traindata = TensorDataset(x_train, y_train)\r\n",
        "trainloader = DataLoader(traindata, shuffle=True, batch_size=batch_size, drop_last=True)\r\n",
        "testdata = TensorDataset(x_test, y_test)\r\n",
        "testloader = DataLoader(testdata, shuffle=True, batch_size=batch_size, drop_last=True)"
      ],
      "execution_count": 8,
      "outputs": []
    },
    {
      "cell_type": "code",
      "metadata": {
        "colab": {
          "base_uri": "https://localhost:8080/"
        },
        "id": "WKGvaN1ruIQY",
        "outputId": "6ecbff5a-f1e7-4766-83b3-40f33fbdde9b"
      },
      "source": [
        "def validate(net, testloader, model='GRU'):\r\n",
        "    criterion = nn.MSELoss()\r\n",
        "    loss = 0\r\n",
        "\r\n",
        "    # net.eval()\r\n",
        "\r\n",
        "    h = net.init_hidden(batch_size)\r\n",
        "    if model == 'GRU':\r\n",
        "        h = h.data\r\n",
        "    else:\r\n",
        "        h = tuple([h_ for h_ in h])\r\n",
        "    \r\n",
        "    for i, data in enumerate(testloader, 0):\r\n",
        "        input, label = data\r\n",
        "        input, label = input.to(device), label.to(device)\r\n",
        "        with torch.no_grad():\r\n",
        "            output, h = net(input, h)\r\n",
        "            loss += criterion(output, label.to(device).float())\r\n",
        "\r\n",
        "    return loss / len(testloader)\r\n",
        "\r\n",
        "def train(trainloader, testloader, lr=0.01, hidden_dim=128, epochs=5, n_layers=2, model='GRU'):\r\n",
        "    input_dim = next(iter(trainloader))[0].shape[2]\r\n",
        "    output_dim = 1\r\n",
        "    \r\n",
        "    '''instantiate models'''\r\n",
        "    if model == 'GRU':\r\n",
        "        net = GRUNet(input_dim, hidden_dim, n_layers, output_dim)\r\n",
        "    else:\r\n",
        "        net = LSTMNet(input_dim, hidden_dim, n_layers, output_dim)\r\n",
        "    # model_summary(net)\r\n",
        "    net.to(device)\r\n",
        "    net.train()\r\n",
        "\r\n",
        "    '''criterion and optimizer'''\r\n",
        "    criterion = nn.MSELoss()\r\n",
        "    optimizer = optim.Adam(net.parameters(), lr=lr)\r\n",
        "\r\n",
        "    '''train for specified epochs'''\r\n",
        "    print('Starting training...')\r\n",
        "    start = time.time()\r\n",
        "\r\n",
        "    losses = []\r\n",
        "    val_losses = []\r\n",
        "    c = 0\r\n",
        "\r\n",
        "    for epoch in range(epochs):\r\n",
        "        h = net.init_hidden(batch_size)\r\n",
        "        running_loss = 0.\r\n",
        "        \r\n",
        "        for i, data in enumerate(trainloader, 1):\r\n",
        "            input, label = data\r\n",
        "\r\n",
        "            optimizer.zero_grad()\r\n",
        "            net.zero_grad()\r\n",
        "\r\n",
        "            if model == 'GRU':\r\n",
        "                h = h.data\r\n",
        "            else:\r\n",
        "                h = tuple([h_.data for h_ in h])\r\n",
        "\r\n",
        "\r\n",
        "            out, h = net(input.to(device).float(), h)\r\n",
        "            loss = criterion(out, label.to(device).float())\r\n",
        "\r\n",
        "            loss.backward()\r\n",
        "            optimizer.step()\r\n",
        "\r\n",
        "            running_loss += loss.item()\r\n",
        "            # losses.append(loss.item())\r\n",
        "\r\n",
        "            if c % 100 == 0:\r\n",
        "                val_loss = validate(net, testloader, model=model)\r\n",
        "                print('Epoch: {} \\tStep: {}/{} \\tAverage training loss: {} \\t\\tAverage validation loss: {}'.format(epoch+1, i, len(trainloader), running_loss/i, val_loss))\r\n",
        "                losses.append(loss.item())\r\n",
        "                val_losses.append(val_loss)\r\n",
        "\r\n",
        "            c += 1   \r\n",
        "\r\n",
        "    print('Training complete... Final Loss: {}\\nSeconds elapsed:{}'.format(loss, time.time()-start))\r\n",
        "    return net, losses, val_losses\r\n",
        "\r\n",
        "\r\n",
        "lstm_net, lstm_loss, lstm_val_loss = train(trainloader, testloader, lr, model='LSTM', n_layers=3, epochs=epochs)\r\n",
        "gru_net, gru_loss, gru_val_loss = train(trainloader, testloader, lr, model='GRU', n_layers=3, epochs=epochs)\r\n"
      ],
      "execution_count": 19,
      "outputs": [
        {
          "output_type": "stream",
          "text": [
            "Starting training...\n",
            "Epoch: 1 \tStep: 1/257 \tAverage training loss: 4213.90234375 \tAverage validation loss: 14360.369140625\n",
            "Epoch: 1 \tStep: 101/257 \tAverage training loss: 2560.787247157333 \tAverage validation loss: 12515.1142578125\n",
            "Epoch: 1 \tStep: 201/257 \tAverage training loss: 2306.152851768987 \tAverage validation loss: 11534.75\n",
            "Epoch: 2 \tStep: 44/257 \tAverage training loss: 1417.8764773282137 \tAverage validation loss: 10674.396484375\n",
            "Epoch: 2 \tStep: 144/257 \tAverage training loss: 1325.0729266272651 \tAverage validation loss: 9773.45703125\n",
            "Epoch: 2 \tStep: 244/257 \tAverage training loss: 1171.8168236154024 \tAverage validation loss: 9188.7763671875\n",
            "Epoch: 3 \tStep: 87/257 \tAverage training loss: 758.2131284516433 \tAverage validation loss: 8650.1181640625\n",
            "Epoch: 3 \tStep: 187/257 \tAverage training loss: 642.4183715779513 \tAverage validation loss: 8095.427734375\n",
            "Epoch: 4 \tStep: 30/257 \tAverage training loss: 382.87708892822263 \tAverage validation loss: 7719.91357421875\n",
            "Epoch: 4 \tStep: 130/257 \tAverage training loss: 357.0906345954308 \tAverage validation loss: 7287.662109375\n",
            "Epoch: 4 \tStep: 230/257 \tAverage training loss: 318.1791477742402 \tAverage validation loss: 7026.35693359375\n",
            "Epoch: 5 \tStep: 73/257 \tAverage training loss: 226.4275063815182 \tAverage validation loss: 6696.4912109375\n",
            "Epoch: 5 \tStep: 173/257 \tAverage training loss: 199.01776265546766 \tAverage validation loss: 6501.12548828125\n",
            "Epoch: 6 \tStep: 16/257 \tAverage training loss: 166.83909726142883 \tAverage validation loss: 6313.658203125\n",
            "Epoch: 6 \tStep: 116/257 \tAverage training loss: 150.03872830292275 \tAverage validation loss: 6194.0146484375\n",
            "Epoch: 6 \tStep: 216/257 \tAverage training loss: 144.086597416136 \tAverage validation loss: 6117.77099609375\n",
            "Epoch: 7 \tStep: 59/257 \tAverage training loss: 135.7481916556924 \tAverage validation loss: 6037.1328125\n",
            "Epoch: 7 \tStep: 159/257 \tAverage training loss: 123.27779314652929 \tAverage validation loss: 5918.0810546875\n",
            "Epoch: 8 \tStep: 2/257 \tAverage training loss: 112.01307678222656 \tAverage validation loss: 5906.08251953125\n",
            "Epoch: 8 \tStep: 102/257 \tAverage training loss: 125.64373371647854 \tAverage validation loss: 5863.81201171875\n",
            "Epoch: 8 \tStep: 202/257 \tAverage training loss: 128.68681498801354 \tAverage validation loss: 5816.376953125\n",
            "Epoch: 9 \tStep: 45/257 \tAverage training loss: 130.99226014879014 \tAverage validation loss: 5772.6123046875\n",
            "Epoch: 9 \tStep: 145/257 \tAverage training loss: 128.09523974451525 \tAverage validation loss: 5760.9521484375\n",
            "Epoch: 9 \tStep: 245/257 \tAverage training loss: 125.38275965476522 \tAverage validation loss: 5761.060546875\n",
            "Epoch: 10 \tStep: 88/257 \tAverage training loss: 118.56551819497889 \tAverage validation loss: 5785.025390625\n",
            "Epoch: 10 \tStep: 188/257 \tAverage training loss: 121.63043112957732 \tAverage validation loss: 5773.92138671875\n",
            "Epoch: 11 \tStep: 31/257 \tAverage training loss: 116.09238113895539 \tAverage validation loss: 5792.25732421875\n",
            "Epoch: 11 \tStep: 131/257 \tAverage training loss: 125.89932628078316 \tAverage validation loss: 5777.8515625\n",
            "Epoch: 11 \tStep: 231/257 \tAverage training loss: 124.68350909179424 \tAverage validation loss: 5792.25830078125\n",
            "Epoch: 12 \tStep: 74/257 \tAverage training loss: 122.38540102984454 \tAverage validation loss: 5776.33984375\n",
            "Epoch: 12 \tStep: 174/257 \tAverage training loss: 125.39287532060996 \tAverage validation loss: 5705.45947265625\n",
            "Epoch: 13 \tStep: 17/257 \tAverage training loss: 123.06237815408146 \tAverage validation loss: 5754.5224609375\n",
            "Epoch: 13 \tStep: 117/257 \tAverage training loss: 128.87022787077814 \tAverage validation loss: 5763.79541015625\n",
            "Epoch: 13 \tStep: 217/257 \tAverage training loss: 125.51467496898317 \tAverage validation loss: 5757.73974609375\n",
            "Epoch: 14 \tStep: 60/257 \tAverage training loss: 121.06301250457764 \tAverage validation loss: 5814.6298828125\n",
            "Epoch: 14 \tStep: 160/257 \tAverage training loss: 124.36317700743675 \tAverage validation loss: 5782.94091796875\n",
            "Epoch: 15 \tStep: 3/257 \tAverage training loss: 152.07948048909506 \tAverage validation loss: 5776.0693359375\n",
            "Epoch: 15 \tStep: 103/257 \tAverage training loss: 127.16197754572896 \tAverage validation loss: 5805.81640625\n",
            "Epoch: 15 \tStep: 203/257 \tAverage training loss: 126.68175490618927 \tAverage validation loss: 5729.13671875\n",
            "Epoch: 16 \tStep: 46/257 \tAverage training loss: 134.07124676911727 \tAverage validation loss: 5753.517578125\n",
            "Epoch: 16 \tStep: 146/257 \tAverage training loss: 125.26185549122013 \tAverage validation loss: 5707.263671875\n",
            "Epoch: 16 \tStep: 246/257 \tAverage training loss: 125.19936714327433 \tAverage validation loss: 5790.1376953125\n",
            "Epoch: 17 \tStep: 89/257 \tAverage training loss: 127.26264867889748 \tAverage validation loss: 5739.06787109375\n",
            "Epoch: 17 \tStep: 189/257 \tAverage training loss: 122.55970457874278 \tAverage validation loss: 5789.5341796875\n",
            "Epoch: 18 \tStep: 32/257 \tAverage training loss: 129.4445121884346 \tAverage validation loss: 5750.29541015625\n",
            "Epoch: 18 \tStep: 132/257 \tAverage training loss: 128.78398957397 \tAverage validation loss: 5695.95947265625\n",
            "Epoch: 18 \tStep: 232/257 \tAverage training loss: 125.23317900197259 \tAverage validation loss: 5765.5185546875\n",
            "Epoch: 19 \tStep: 75/257 \tAverage training loss: 130.6988889312744 \tAverage validation loss: 5776.8603515625\n",
            "Epoch: 19 \tStep: 175/257 \tAverage training loss: 127.00247589111328 \tAverage validation loss: 5721.0322265625\n",
            "Epoch: 20 \tStep: 18/257 \tAverage training loss: 136.43153190612793 \tAverage validation loss: 5785.25244140625\n",
            "Epoch: 20 \tStep: 118/257 \tAverage training loss: 127.38234500561731 \tAverage validation loss: 5750.18701171875\n",
            "Epoch: 20 \tStep: 218/257 \tAverage training loss: 123.41818159873333 \tAverage validation loss: 5679.30908203125\n",
            "Epoch: 21 \tStep: 61/257 \tAverage training loss: 63.32584807130157 \tAverage validation loss: 5470.97021484375\n",
            "Epoch: 21 \tStep: 161/257 \tAverage training loss: 54.97351104428309 \tAverage validation loss: 5218.10888671875\n",
            "Epoch: 22 \tStep: 4/257 \tAverage training loss: 25.637101471424103 \tAverage validation loss: 5008.08544921875\n",
            "Epoch: 22 \tStep: 104/257 \tAverage training loss: 18.49851666390896 \tAverage validation loss: 4897.84033203125\n",
            "Epoch: 22 \tStep: 204/257 \tAverage training loss: 16.757578720210812 \tAverage validation loss: 4796.00732421875\n",
            "Epoch: 23 \tStep: 47/257 \tAverage training loss: 13.386435326109542 \tAverage validation loss: 4706.9443359375\n",
            "Epoch: 23 \tStep: 147/257 \tAverage training loss: 12.059369614335145 \tAverage validation loss: 4655.12890625\n",
            "Epoch: 23 \tStep: 247/257 \tAverage training loss: 10.733005655439277 \tAverage validation loss: 4592.46484375\n",
            "Epoch: 24 \tStep: 90/257 \tAverage training loss: 7.980265932612949 \tAverage validation loss: 4531.0078125\n",
            "Epoch: 24 \tStep: 190/257 \tAverage training loss: 7.551616375383578 \tAverage validation loss: 4497.29296875\n",
            "Epoch: 25 \tStep: 33/257 \tAverage training loss: 7.881057533350858 \tAverage validation loss: 4467.56396484375\n",
            "Epoch: 25 \tStep: 133/257 \tAverage training loss: 8.429220792942477 \tAverage validation loss: 4428.5712890625\n",
            "Epoch: 25 \tStep: 233/257 \tAverage training loss: 7.923564954984597 \tAverage validation loss: 4401.16259765625\n",
            "Epoch: 26 \tStep: 76/257 \tAverage training loss: 8.071724755983604 \tAverage validation loss: 4345.97705078125\n",
            "Epoch: 26 \tStep: 176/257 \tAverage training loss: 7.31836529516361 \tAverage validation loss: 4320.77392578125\n",
            "Epoch: 27 \tStep: 19/257 \tAverage training loss: 11.160142007626986 \tAverage validation loss: 4283.03369140625\n",
            "Epoch: 27 \tStep: 119/257 \tAverage training loss: 5.685246187097886 \tAverage validation loss: 4320.86962890625\n",
            "Epoch: 27 \tStep: 219/257 \tAverage training loss: 5.927540949524538 \tAverage validation loss: 4296.32470703125\n",
            "Epoch: 28 \tStep: 62/257 \tAverage training loss: 4.9612304592324845 \tAverage validation loss: 4281.37744140625\n",
            "Epoch: 28 \tStep: 162/257 \tAverage training loss: 5.995297390369721 \tAverage validation loss: 4253.4404296875\n",
            "Epoch: 29 \tStep: 5/257 \tAverage training loss: 4.683982944488525 \tAverage validation loss: 4257.353515625\n",
            "Epoch: 29 \tStep: 105/257 \tAverage training loss: 5.042549487806502 \tAverage validation loss: 4254.60302734375\n",
            "Epoch: 29 \tStep: 205/257 \tAverage training loss: 5.931762637888513 \tAverage validation loss: 4077.9189453125\n",
            "Epoch: 30 \tStep: 48/257 \tAverage training loss: 5.896092296888431 \tAverage validation loss: 4202.59716796875\n",
            "Epoch: 30 \tStep: 148/257 \tAverage training loss: 5.3840769958757875 \tAverage validation loss: 4186.82177734375\n",
            "Epoch: 30 \tStep: 248/257 \tAverage training loss: 5.525521283338387 \tAverage validation loss: 4190.2255859375\n",
            "Epoch: 31 \tStep: 91/257 \tAverage training loss: 5.218078363400239 \tAverage validation loss: 4196.748046875\n",
            "Epoch: 31 \tStep: 191/257 \tAverage training loss: 5.624498351706261 \tAverage validation loss: 4155.31884765625\n",
            "Epoch: 32 \tStep: 34/257 \tAverage training loss: 4.540912522112622 \tAverage validation loss: 4184.7900390625\n",
            "Epoch: 32 \tStep: 134/257 \tAverage training loss: 5.132492201208179 \tAverage validation loss: 4188.37744140625\n",
            "Epoch: 32 \tStep: 234/257 \tAverage training loss: 4.877025664171093 \tAverage validation loss: 4180.43603515625\n",
            "Epoch: 33 \tStep: 77/257 \tAverage training loss: 4.795813709497452 \tAverage validation loss: 4126.43359375\n",
            "Epoch: 33 \tStep: 177/257 \tAverage training loss: 5.386235596938322 \tAverage validation loss: 4146.7041015625\n",
            "Epoch: 34 \tStep: 20/257 \tAverage training loss: 4.923267823457718 \tAverage validation loss: 4169.7861328125\n",
            "Epoch: 34 \tStep: 120/257 \tAverage training loss: 4.564178175354997 \tAverage validation loss: 4167.1689453125\n",
            "Epoch: 34 \tStep: 220/257 \tAverage training loss: 4.586147195303982 \tAverage validation loss: 4127.04296875\n",
            "Epoch: 35 \tStep: 63/257 \tAverage training loss: 5.877496057086521 \tAverage validation loss: 4117.48291015625\n",
            "Epoch: 35 \tStep: 163/257 \tAverage training loss: 5.572414253386983 \tAverage validation loss: 4071.908203125\n",
            "Epoch: 36 \tStep: 6/257 \tAverage training loss: 2.9358675281206765 \tAverage validation loss: 4132.17822265625\n",
            "Epoch: 36 \tStep: 106/257 \tAverage training loss: 3.89791550810607 \tAverage validation loss: 4095.150634765625\n",
            "Epoch: 36 \tStep: 206/257 \tAverage training loss: 4.537508590309654 \tAverage validation loss: 4121.599609375\n",
            "Epoch: 37 \tStep: 49/257 \tAverage training loss: 4.087717908985761 \tAverage validation loss: 4107.97119140625\n",
            "Epoch: 37 \tStep: 149/257 \tAverage training loss: 4.72117040322581 \tAverage validation loss: 4077.4677734375\n",
            "Epoch: 37 \tStep: 249/257 \tAverage training loss: 5.134706294568009 \tAverage validation loss: 4115.30224609375\n",
            "Epoch: 38 \tStep: 92/257 \tAverage training loss: 4.3025562038807115 \tAverage validation loss: 4112.75830078125\n",
            "Epoch: 38 \tStep: 192/257 \tAverage training loss: 4.4308414438079735 \tAverage validation loss: 4034.658447265625\n",
            "Epoch: 39 \tStep: 35/257 \tAverage training loss: 4.76409056867872 \tAverage validation loss: 4094.48681640625\n",
            "Epoch: 39 \tStep: 135/257 \tAverage training loss: 4.178247245594307 \tAverage validation loss: 4034.276123046875\n",
            "Epoch: 39 \tStep: 235/257 \tAverage training loss: 4.764728530068346 \tAverage validation loss: 4046.796875\n",
            "Epoch: 40 \tStep: 78/257 \tAverage training loss: 4.0904263988232765 \tAverage validation loss: 4100.2919921875\n",
            "Epoch: 40 \tStep: 178/257 \tAverage training loss: 4.340078485166926 \tAverage validation loss: 4067.878662109375\n",
            "Epoch: 41 \tStep: 21/257 \tAverage training loss: 5.090777178605397 \tAverage validation loss: 4084.811279296875\n",
            "Epoch: 41 \tStep: 121/257 \tAverage training loss: 4.137241954153234 \tAverage validation loss: 4078.212158203125\n",
            "Epoch: 41 \tStep: 221/257 \tAverage training loss: 4.272831786811621 \tAverage validation loss: 4060.98193359375\n",
            "Epoch: 42 \tStep: 64/257 \tAverage training loss: 4.035181830171496 \tAverage validation loss: 4057.622802734375\n",
            "Epoch: 42 \tStep: 164/257 \tAverage training loss: 4.165382608044438 \tAverage validation loss: 4059.97998046875\n",
            "Epoch: 43 \tStep: 7/257 \tAverage training loss: 2.6183441621916637 \tAverage validation loss: 4060.57177734375\n",
            "Epoch: 43 \tStep: 107/257 \tAverage training loss: 3.8426799696182536 \tAverage validation loss: 4022.649658203125\n",
            "Epoch: 43 \tStep: 207/257 \tAverage training loss: 4.632122909533229 \tAverage validation loss: 4026.51416015625\n",
            "Epoch: 44 \tStep: 50/257 \tAverage training loss: 3.834240391254425 \tAverage validation loss: 4053.408935546875\n",
            "Epoch: 44 \tStep: 150/257 \tAverage training loss: 4.04203673462073 \tAverage validation loss: 4041.154052734375\n",
            "Epoch: 44 \tStep: 250/257 \tAverage training loss: 4.035037273943424 \tAverage validation loss: 3995.002685546875\n",
            "Epoch: 45 \tStep: 93/257 \tAverage training loss: 3.937931598194184 \tAverage validation loss: 4015.164794921875\n",
            "Epoch: 45 \tStep: 193/257 \tAverage training loss: 4.367363046024748 \tAverage validation loss: 4008.75732421875\n",
            "Epoch: 46 \tStep: 36/257 \tAverage training loss: 2.6602526961101427 \tAverage validation loss: 4013.501220703125\n",
            "Epoch: 46 \tStep: 136/257 \tAverage training loss: 4.1484535770381195 \tAverage validation loss: 3957.26904296875\n",
            "Epoch: 46 \tStep: 236/257 \tAverage training loss: 4.197682512513662 \tAverage validation loss: 4005.531005859375\n",
            "Epoch: 47 \tStep: 79/257 \tAverage training loss: 4.294382798709447 \tAverage validation loss: 3995.97265625\n",
            "Epoch: 47 \tStep: 179/257 \tAverage training loss: 4.306492812307187 \tAverage validation loss: 3999.9697265625\n",
            "Epoch: 48 \tStep: 22/257 \tAverage training loss: 3.2899542694742028 \tAverage validation loss: 4005.957275390625\n",
            "Epoch: 48 \tStep: 122/257 \tAverage training loss: 3.347915503211686 \tAverage validation loss: 3949.017333984375\n",
            "Epoch: 48 \tStep: 222/257 \tAverage training loss: 4.151778895844211 \tAverage validation loss: 4021.8896484375\n",
            "Epoch: 49 \tStep: 65/257 \tAverage training loss: 3.9011656722197166 \tAverage validation loss: 3998.248046875\n",
            "Epoch: 49 \tStep: 165/257 \tAverage training loss: 4.485112832983335 \tAverage validation loss: 4013.755615234375\n",
            "Epoch: 50 \tStep: 8/257 \tAverage training loss: 4.178888440132141 \tAverage validation loss: 3903.0771484375\n",
            "Epoch: 50 \tStep: 108/257 \tAverage training loss: 4.826380312097846 \tAverage validation loss: 3976.316650390625\n",
            "Epoch: 50 \tStep: 208/257 \tAverage training loss: 4.238959081721707 \tAverage validation loss: 3973.1494140625\n",
            "Training complete... Final Loss: 2.243746280670166\n",
            "Seconds elapsed:109.81166124343872\n",
            "Starting training...\n",
            "Epoch: 1 \tStep: 1/257 \tAverage training loss: 3882.72412109375 \tAverage validation loss: 14189.2265625\n",
            "Epoch: 1 \tStep: 101/257 \tAverage training loss: 2619.0487652769184 \tAverage validation loss: 12869.1669921875\n",
            "Epoch: 1 \tStep: 201/257 \tAverage training loss: 2373.4980927272813 \tAverage validation loss: 11819.00390625\n",
            "Epoch: 2 \tStep: 44/257 \tAverage training loss: 1470.4947884299538 \tAverage validation loss: 11060.314453125\n",
            "Epoch: 2 \tStep: 144/257 \tAverage training loss: 1448.1328353881836 \tAverage validation loss: 10298.1982421875\n",
            "Epoch: 2 \tStep: 244/257 \tAverage training loss: 1304.246410557481 \tAverage validation loss: 9625.78125\n",
            "Epoch: 3 \tStep: 87/257 \tAverage training loss: 861.3032943900974 \tAverage validation loss: 9026.677734375\n",
            "Epoch: 3 \tStep: 187/257 \tAverage training loss: 772.0845043977952 \tAverage validation loss: 8454.4462890625\n",
            "Epoch: 4 \tStep: 30/257 \tAverage training loss: 475.22046966552733 \tAverage validation loss: 8060.99755859375\n",
            "Epoch: 4 \tStep: 130/257 \tAverage training loss: 444.62440182612494 \tAverage validation loss: 7664.107421875\n",
            "Epoch: 4 \tStep: 230/257 \tAverage training loss: 399.04028267238454 \tAverage validation loss: 7303.83203125\n",
            "Epoch: 5 \tStep: 73/257 \tAverage training loss: 277.3955368211825 \tAverage validation loss: 7040.90771484375\n",
            "Epoch: 5 \tStep: 173/257 \tAverage training loss: 244.72175526481143 \tAverage validation loss: 6768.20166015625\n",
            "Epoch: 6 \tStep: 16/257 \tAverage training loss: 175.41011452674866 \tAverage validation loss: 6562.109375\n",
            "Epoch: 6 \tStep: 116/257 \tAverage training loss: 174.86982491920733 \tAverage validation loss: 6426.8251953125\n",
            "Epoch: 6 \tStep: 216/257 \tAverage training loss: 164.46204260985056 \tAverage validation loss: 6285.853515625\n",
            "Epoch: 7 \tStep: 59/257 \tAverage training loss: 140.65783791218774 \tAverage validation loss: 6136.44580078125\n",
            "Epoch: 7 \tStep: 159/257 \tAverage training loss: 140.94393554873437 \tAverage validation loss: 6032.7666015625\n",
            "Epoch: 8 \tStep: 2/257 \tAverage training loss: 152.95995330810547 \tAverage validation loss: 6009.90478515625\n",
            "Epoch: 8 \tStep: 102/257 \tAverage training loss: 128.4805035123638 \tAverage validation loss: 5971.13720703125\n",
            "Epoch: 8 \tStep: 202/257 \tAverage training loss: 127.53610228547956 \tAverage validation loss: 5916.60986328125\n",
            "Epoch: 9 \tStep: 45/257 \tAverage training loss: 111.74704996744792 \tAverage validation loss: 5732.4638671875\n",
            "Epoch: 9 \tStep: 145/257 \tAverage training loss: 120.86677307918154 \tAverage validation loss: 5835.49072265625\n",
            "Epoch: 9 \tStep: 245/257 \tAverage training loss: 125.14850167255013 \tAverage validation loss: 5806.2744140625\n",
            "Epoch: 10 \tStep: 88/257 \tAverage training loss: 125.91398869861256 \tAverage validation loss: 5761.41162109375\n",
            "Epoch: 10 \tStep: 188/257 \tAverage training loss: 123.81764807599656 \tAverage validation loss: 5780.3740234375\n",
            "Epoch: 11 \tStep: 31/257 \tAverage training loss: 145.18174337571668 \tAverage validation loss: 5792.41357421875\n",
            "Epoch: 11 \tStep: 131/257 \tAverage training loss: 126.53050278525316 \tAverage validation loss: 5749.8662109375\n",
            "Epoch: 11 \tStep: 231/257 \tAverage training loss: 125.0990848623829 \tAverage validation loss: 5785.3720703125\n",
            "Epoch: 12 \tStep: 74/257 \tAverage training loss: 129.59460918323413 \tAverage validation loss: 5723.7783203125\n",
            "Epoch: 12 \tStep: 174/257 \tAverage training loss: 127.6159224893855 \tAverage validation loss: 5790.791015625\n",
            "Epoch: 13 \tStep: 17/257 \tAverage training loss: 129.83374674179976 \tAverage validation loss: 5766.2958984375\n",
            "Epoch: 13 \tStep: 117/257 \tAverage training loss: 119.80525091774443 \tAverage validation loss: 5764.64404296875\n",
            "Epoch: 13 \tStep: 217/257 \tAverage training loss: 123.03160808932397 \tAverage validation loss: 5785.333984375\n",
            "Epoch: 14 \tStep: 60/257 \tAverage training loss: 129.70636316935222 \tAverage validation loss: 5813.55419921875\n",
            "Epoch: 14 \tStep: 160/257 \tAverage training loss: 124.17764452695846 \tAverage validation loss: 5802.90625\n",
            "Epoch: 15 \tStep: 3/257 \tAverage training loss: 121.4155044555664 \tAverage validation loss: 5690.78271484375\n",
            "Epoch: 15 \tStep: 103/257 \tAverage training loss: 124.60161775755651 \tAverage validation loss: 5738.1982421875\n",
            "Epoch: 15 \tStep: 203/257 \tAverage training loss: 127.21171994514653 \tAverage validation loss: 5761.109375\n",
            "Epoch: 16 \tStep: 46/257 \tAverage training loss: 133.12993256942084 \tAverage validation loss: 5777.892578125\n",
            "Epoch: 16 \tStep: 146/257 \tAverage training loss: 132.1930245308027 \tAverage validation loss: 5662.94287109375\n",
            "Epoch: 16 \tStep: 246/257 \tAverage training loss: 124.3762193462713 \tAverage validation loss: 5731.7470703125\n",
            "Epoch: 17 \tStep: 89/257 \tAverage training loss: 123.21642691365788 \tAverage validation loss: 5820.658203125\n",
            "Epoch: 17 \tStep: 189/257 \tAverage training loss: 125.9488157948489 \tAverage validation loss: 5780.04931640625\n",
            "Epoch: 18 \tStep: 32/257 \tAverage training loss: 128.10462427139282 \tAverage validation loss: 5779.66845703125\n",
            "Epoch: 18 \tStep: 132/257 \tAverage training loss: 123.24024396954161 \tAverage validation loss: 5771.89013671875\n",
            "Epoch: 18 \tStep: 232/257 \tAverage training loss: 124.7260755999335 \tAverage validation loss: 5789.20263671875\n",
            "Epoch: 19 \tStep: 75/257 \tAverage training loss: 119.51426249186198 \tAverage validation loss: 5785.8369140625\n",
            "Epoch: 19 \tStep: 175/257 \tAverage training loss: 122.62470452444894 \tAverage validation loss: 5765.7099609375\n",
            "Epoch: 20 \tStep: 18/257 \tAverage training loss: 124.65165138244629 \tAverage validation loss: 5788.65478515625\n",
            "Epoch: 20 \tStep: 118/257 \tAverage training loss: 126.32413201412912 \tAverage validation loss: 5782.9404296875\n",
            "Epoch: 20 \tStep: 218/257 \tAverage training loss: 128.12013050394322 \tAverage validation loss: 5710.14990234375\n",
            "Epoch: 21 \tStep: 61/257 \tAverage training loss: 133.20437931623616 \tAverage validation loss: 5906.44384765625\n",
            "Epoch: 21 \tStep: 161/257 \tAverage training loss: 97.89236091827013 \tAverage validation loss: 5528.48095703125\n",
            "Epoch: 22 \tStep: 4/257 \tAverage training loss: 76.35824680328369 \tAverage validation loss: 5115.955078125\n",
            "Epoch: 22 \tStep: 104/257 \tAverage training loss: 32.3630274946873 \tAverage validation loss: 5051.712890625\n",
            "Epoch: 22 \tStep: 204/257 \tAverage training loss: 26.885376702921064 \tAverage validation loss: 4844.0009765625\n",
            "Epoch: 23 \tStep: 47/257 \tAverage training loss: 16.249763082950672 \tAverage validation loss: 4695.0\n",
            "Epoch: 23 \tStep: 147/257 \tAverage training loss: 14.90132192446261 \tAverage validation loss: 4647.18115234375\n",
            "Epoch: 23 \tStep: 247/257 \tAverage training loss: 19.701176828701005 \tAverage validation loss: 4888.77734375\n",
            "Epoch: 24 \tStep: 90/257 \tAverage training loss: 20.58542756372028 \tAverage validation loss: 4707.7978515625\n",
            "Epoch: 24 \tStep: 190/257 \tAverage training loss: 16.18804741470437 \tAverage validation loss: 4630.2509765625\n",
            "Epoch: 25 \tStep: 33/257 \tAverage training loss: 12.289811423330596 \tAverage validation loss: 4542.875\n",
            "Epoch: 25 \tStep: 133/257 \tAverage training loss: 11.352445672329207 \tAverage validation loss: 4535.22265625\n",
            "Epoch: 25 \tStep: 233/257 \tAverage training loss: 10.385247425459998 \tAverage validation loss: 4417.9287109375\n",
            "Epoch: 26 \tStep: 76/257 \tAverage training loss: 13.166956658426084 \tAverage validation loss: 4417.61767578125\n",
            "Epoch: 26 \tStep: 176/257 \tAverage training loss: 11.223191016269 \tAverage validation loss: 4339.11328125\n",
            "Epoch: 27 \tStep: 19/257 \tAverage training loss: 10.397076117364984 \tAverage validation loss: 4413.07275390625\n",
            "Epoch: 27 \tStep: 119/257 \tAverage training loss: 9.32044856438116 \tAverage validation loss: 4314.56103515625\n",
            "Epoch: 27 \tStep: 219/257 \tAverage training loss: 8.390235937077161 \tAverage validation loss: 4347.97705078125\n",
            "Epoch: 28 \tStep: 62/257 \tAverage training loss: 9.166357167305485 \tAverage validation loss: 4302.57080078125\n",
            "Epoch: 28 \tStep: 162/257 \tAverage training loss: 8.550000908750075 \tAverage validation loss: 4318.65576171875\n",
            "Epoch: 29 \tStep: 5/257 \tAverage training loss: 8.168390291929246 \tAverage validation loss: 4405.68212890625\n",
            "Epoch: 29 \tStep: 105/257 \tAverage training loss: 7.641321835063753 \tAverage validation loss: 4201.41064453125\n",
            "Epoch: 29 \tStep: 205/257 \tAverage training loss: 7.737133655897001 \tAverage validation loss: 4336.17041015625\n",
            "Epoch: 30 \tStep: 48/257 \tAverage training loss: 7.771675052742164 \tAverage validation loss: 4328.20849609375\n",
            "Epoch: 30 \tStep: 148/257 \tAverage training loss: 6.896025123250847 \tAverage validation loss: 4305.26953125\n",
            "Epoch: 30 \tStep: 248/257 \tAverage training loss: 7.154800710974321 \tAverage validation loss: 4276.1279296875\n",
            "Epoch: 31 \tStep: 91/257 \tAverage training loss: 7.704483471073947 \tAverage validation loss: 4284.19091796875\n",
            "Epoch: 31 \tStep: 191/257 \tAverage training loss: 7.025434713635145 \tAverage validation loss: 4330.7421875\n",
            "Epoch: 32 \tStep: 34/257 \tAverage training loss: 5.776081188636668 \tAverage validation loss: 4243.04638671875\n",
            "Epoch: 32 \tStep: 134/257 \tAverage training loss: 6.041405036155857 \tAverage validation loss: 4291.1650390625\n",
            "Epoch: 32 \tStep: 234/257 \tAverage training loss: 6.272318243853047 \tAverage validation loss: 4249.193359375\n",
            "Epoch: 33 \tStep: 77/257 \tAverage training loss: 6.277457529074185 \tAverage validation loss: 4225.1298828125\n",
            "Epoch: 33 \tStep: 177/257 \tAverage training loss: 6.1028473043845874 \tAverage validation loss: 4375.73486328125\n",
            "Epoch: 34 \tStep: 20/257 \tAverage training loss: 5.174840486049652 \tAverage validation loss: 4307.76416015625\n",
            "Epoch: 34 \tStep: 120/257 \tAverage training loss: 7.373200937360525 \tAverage validation loss: 4203.76513671875\n",
            "Epoch: 34 \tStep: 220/257 \tAverage training loss: 6.564300700886683 \tAverage validation loss: 4173.85205078125\n",
            "Epoch: 35 \tStep: 63/257 \tAverage training loss: 6.750824707841116 \tAverage validation loss: 4288.44580078125\n",
            "Epoch: 35 \tStep: 163/257 \tAverage training loss: 5.909163379778891 \tAverage validation loss: 4214.15966796875\n",
            "Epoch: 36 \tStep: 6/257 \tAverage training loss: 7.464668144782384 \tAverage validation loss: 4224.0087890625\n",
            "Epoch: 36 \tStep: 106/257 \tAverage training loss: 7.13033025613371 \tAverage validation loss: 4230.966796875\n",
            "Epoch: 36 \tStep: 206/257 \tAverage training loss: 6.526899064628823 \tAverage validation loss: 4201.52099609375\n",
            "Epoch: 37 \tStep: 49/257 \tAverage training loss: 7.538531602645407 \tAverage validation loss: 4271.52978515625\n",
            "Epoch: 37 \tStep: 149/257 \tAverage training loss: 7.0813054598417855 \tAverage validation loss: 4208.3623046875\n",
            "Epoch: 37 \tStep: 249/257 \tAverage training loss: 6.510724116760086 \tAverage validation loss: 4288.85986328125\n",
            "Epoch: 38 \tStep: 92/257 \tAverage training loss: 6.463542602956295 \tAverage validation loss: 4131.73876953125\n",
            "Epoch: 38 \tStep: 192/257 \tAverage training loss: 7.370112486649305 \tAverage validation loss: 4223.9306640625\n",
            "Epoch: 39 \tStep: 35/257 \tAverage training loss: 6.207852445329938 \tAverage validation loss: 4210.0322265625\n",
            "Epoch: 39 \tStep: 135/257 \tAverage training loss: 5.271641653224274 \tAverage validation loss: 4132.0732421875\n",
            "Epoch: 39 \tStep: 235/257 \tAverage training loss: 5.8014811080186925 \tAverage validation loss: 4152.8134765625\n",
            "Epoch: 40 \tStep: 78/257 \tAverage training loss: 6.710004046177253 \tAverage validation loss: 4086.304931640625\n",
            "Epoch: 40 \tStep: 178/257 \tAverage training loss: 7.269343867395701 \tAverage validation loss: 4161.40478515625\n",
            "Epoch: 41 \tStep: 21/257 \tAverage training loss: 7.401499793643043 \tAverage validation loss: 4227.8896484375\n",
            "Epoch: 41 \tStep: 121/257 \tAverage training loss: 5.639506378203384 \tAverage validation loss: 4193.53955078125\n",
            "Epoch: 41 \tStep: 221/257 \tAverage training loss: 5.788966992355849 \tAverage validation loss: 4266.08544921875\n",
            "Epoch: 42 \tStep: 64/257 \tAverage training loss: 6.144159094430506 \tAverage validation loss: 4208.76708984375\n",
            "Epoch: 42 \tStep: 164/257 \tAverage training loss: 6.021105915671441 \tAverage validation loss: 4150.42529296875\n",
            "Epoch: 43 \tStep: 7/257 \tAverage training loss: 6.267486989498138 \tAverage validation loss: 4300.5947265625\n",
            "Epoch: 43 \tStep: 107/257 \tAverage training loss: 6.248416179808501 \tAverage validation loss: 4246.4189453125\n",
            "Epoch: 43 \tStep: 207/257 \tAverage training loss: 5.775523748446778 \tAverage validation loss: 4178.15283203125\n",
            "Epoch: 44 \tStep: 50/257 \tAverage training loss: 5.637056229114532 \tAverage validation loss: 4262.33154296875\n",
            "Epoch: 44 \tStep: 150/257 \tAverage training loss: 5.868790906469028 \tAverage validation loss: 4266.458984375\n",
            "Epoch: 44 \tStep: 250/257 \tAverage training loss: 6.002708043217659 \tAverage validation loss: 4197.51220703125\n",
            "Epoch: 45 \tStep: 93/257 \tAverage training loss: 7.762319625705801 \tAverage validation loss: 4138.85009765625\n",
            "Epoch: 45 \tStep: 193/257 \tAverage training loss: 6.559695235419768 \tAverage validation loss: 4180.21044921875\n",
            "Epoch: 46 \tStep: 36/257 \tAverage training loss: 4.900249698302812 \tAverage validation loss: 4245.5869140625\n",
            "Epoch: 46 \tStep: 136/257 \tAverage training loss: 6.409464776899447 \tAverage validation loss: 4211.0830078125\n",
            "Epoch: 46 \tStep: 236/257 \tAverage training loss: 5.753908782952734 \tAverage validation loss: 4115.2783203125\n",
            "Epoch: 47 \tStep: 79/257 \tAverage training loss: 5.544786188798614 \tAverage validation loss: 4162.78564453125\n",
            "Epoch: 47 \tStep: 179/257 \tAverage training loss: 6.543821924725059 \tAverage validation loss: 4120.32861328125\n",
            "Epoch: 48 \tStep: 22/257 \tAverage training loss: 5.236975767395713 \tAverage validation loss: 4140.5849609375\n",
            "Epoch: 48 \tStep: 122/257 \tAverage training loss: 5.608049105547491 \tAverage validation loss: 4134.2568359375\n",
            "Epoch: 48 \tStep: 222/257 \tAverage training loss: 6.014929675237015 \tAverage validation loss: 4155.52880859375\n",
            "Epoch: 49 \tStep: 65/257 \tAverage training loss: 5.551472455721635 \tAverage validation loss: 4172.4833984375\n",
            "Epoch: 49 \tStep: 165/257 \tAverage training loss: 5.393923516390902 \tAverage validation loss: 4135.69921875\n",
            "Epoch: 50 \tStep: 8/257 \tAverage training loss: 4.331435441970825 \tAverage validation loss: 4101.89697265625\n",
            "Epoch: 50 \tStep: 108/257 \tAverage training loss: 5.085063100964935 \tAverage validation loss: 3908.973388671875\n",
            "Epoch: 50 \tStep: 208/257 \tAverage training loss: 5.034571308642626 \tAverage validation loss: 4003.81982421875\n",
            "Training complete... Final Loss: 4.878485679626465\n",
            "Seconds elapsed:102.54864740371704\n"
          ],
          "name": "stdout"
        }
      ]
    },
    {
      "cell_type": "code",
      "metadata": {
        "colab": {
          "base_uri": "https://localhost:8080/",
          "height": 1000
        },
        "id": "BnceNtXEQQ6d",
        "outputId": "dd0d632c-1000-4839-8c1a-7f7d936b0913"
      },
      "source": [
        "iters = list(range(1, epochs*len(trainloader), 100))\r\n",
        "\r\n",
        "def epoch_lines():\r\n",
        "    for x in range(0, iters[-1], len(trainloader)):\r\n",
        "        plt.axvline(x=x, lw=0.05, c='black')\r\n",
        "\r\n",
        "_, ax1 = plt.subplots()\r\n",
        "ax1.plot(iters, lstm_loss)\r\n",
        "ax1.plot(iters, gru_loss)\r\n",
        "epoch_lines()\r\n",
        "plt.title('Training Loss')\r\n",
        "plt.xlabel('Iterations')\r\n",
        "plt.ylabel('Average Loss')\r\n",
        "plt.legend(['LSTM','GRU'])\r\n",
        "plt.show()\r\n",
        "\r\n",
        "_, ax2 = plt.subplots()\r\n",
        "ax2.plot(iters, [gru_loss[i]-lstm_loss[i] for i in range(len(lstm_loss))])\r\n",
        "plt.title('Training Loss $\\Delta$ (GRU - LSTM)')\r\n",
        "epoch_lines()\r\n",
        "plt.xlabel('Iterations')\r\n",
        "plt.ylabel('Loss $\\Delta$')\r\n",
        "plt.show()\r\n",
        "\r\n",
        "_, ax3 = plt.subplots()\r\n",
        "ax3.plot(iters, lstm_val_loss)\r\n",
        "ax3.plot(iters, gru_val_loss)\r\n",
        "epoch_lines()\r\n",
        "plt.title('Validation Loss')\r\n",
        "plt.xlabel('Iterations')\r\n",
        "plt.ylabel('Average Loss')\r\n",
        "plt.legend(['LSTM','GRU'])\r\n",
        "plt.show()\r\n",
        "\r\n",
        "_, ax4 = plt.subplots()\r\n",
        "ax4.plot(iters, [gru_val_loss[i]-lstm_val_loss[i] for i in range(len(lstm_val_loss))])\r\n",
        "epoch_lines()\r\n",
        "plt.title('Validation Loss $\\Delta$ (GRU - LSTM)')\r\n",
        "plt.xlabel('Iterations')\r\n",
        "plt.ylabel('Loss $\\Delta$')\r\n",
        "plt.show()\r\n",
        "\r\n",
        "lstm_eval = validate(lstm_net, testloader, model='LSTM')\r\n",
        "gru_eval = validate(gru_net, testloader, model='GRU')\r\n",
        "\r\n",
        "print('Final LSTM validation loss:{}'.format(lstm_eval))\r\n",
        "print('Final GRU validation loss:{}'.format(gru_eval))\r\n"
      ],
      "execution_count": 30,
      "outputs": [
        {
          "output_type": "display_data",
          "data": {
            "image/png": "[encoded data removed]",
            "text/plain": [
              "<Figure size 432x288 with 1 Axes>"
            ]
          },
          "metadata": {
            "tags": [],
            "needs_background": "light"
          }
        },
        {
          "output_type": "display_data",
          "data": {
            "image/png": "[encoded data removed]",
            "text/plain": [
              "<Figure size 432x288 with 1 Axes>"
            ]
          },
          "metadata": {
            "tags": [],
            "needs_background": "light"
          }
        },
        {
          "output_type": "display_data",
          "data": {
            "image/png": "[encoded data removed]",
            "text/plain": [
              "<Figure size 432x288 with 1 Axes>"
            ]
          },
          "metadata": {
            "tags": [],
            "needs_background": "light"
          }
        },
        {
          "output_type": "display_data",
          "data": {
            "image/png": "[encoded data removed]",
            "text/plain": [
              "<Figure size 432x288 with 1 Axes>"
            ]
          },
          "metadata": {
            "tags": [],
            "needs_background": "light"
          }
        },
        {
          "output_type": "stream",
          "text": [
            "Final LSTM validation loss:3980.294921875\n",
            "Final GRU validation loss:4064.122314453125\n"
          ],
          "name": "stdout"
        }
      ]
    },
    {
      "cell_type": "code",
      "metadata": {
        "id": "VQmIGdGmT-g2"
      },
      "source": [
        "'''\r\n",
        "TODO:\r\n",
        "get loss on test set and graph\r\n",
        "fit the original stock curve\r\n",
        "'''"
      ],
      "execution_count": null,
      "outputs": []
    },
    {
      "cell_type": "code",
      "metadata": {
        "colab": {
          "base_uri": "https://localhost:8080/"
        },
        "id": "aH3B2eTJU0Bb",
        "outputId": "0a24d515-d227-4665-c2b1-82a5014a4280"
      },
      "source": [
        "'''\r\n",
        "Dataset augmentation - ideas:\r\n",
        "1. Use the open prices for stocks as a separate dataset\r\n",
        "2. Add Gaussian Noise to the dataset\r\n",
        "3. Run sequences backwards - market doesn't seem symmetrical though\r\n",
        "\r\n",
        "Notes:\r\n",
        "Stateful vs stateless?\r\n",
        "What is causing the large jumps with epochs?\r\n",
        "Variable learning rate\r\n",
        "Tweak parameters and hyperparameters\r\n",
        "Test multiple symbols at the same time\r\n",
        "Tanh vs ReLU?\r\n",
        "'''"
      ],
      "execution_count": 15,
      "outputs": [
        {
          "output_type": "stream",
          "text": [
            "[1, 3]\n"
          ],
          "name": "stdout"
        }
      ]
    },
    {
      "cell_type": "code",
      "metadata": {
        "id": "PJqETisl3KS-"
      },
      "source": [
        ""
      ],
      "execution_count": null,
      "outputs": []
    }
  ]
}