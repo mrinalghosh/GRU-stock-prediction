{
  "nbformat": 4,
  "nbformat_minor": 0,
  "metadata": {
    "colab": {
      "name": "GRU-stock-prediction.ipynb",
      "provenance": [],
      "collapsed_sections": []
    },
    "kernelspec": {
      "name": "python3",
      "display_name": "Python 3"
    }
  },
  "cells": [
    {
      "cell_type": "markdown",
      "metadata": {
        "id": "_sbxpN8jRHG8"
      },
      "source": [
        "PyTorch GRU based stock prediction model. Inspired by this Medium [article](https://towardsdatascience.com/lstm-time-series-forecasting-predicting-stock-prices-using-an-lstm-model-6223e9644a2f) and this Kaggle [post](https://www.kaggle.com/taronzakaryan/stock-prediction-lstm-using-pytorch) on stock prediction. I wanted to benchmark how a GRU performed compared to the LSTMs used previously."
      ]
    },
    {
      "cell_type": "code",
      "metadata": {
        "colab": {
          "base_uri": "https://localhost:8080/"
        },
        "id": "LIR4MstFNl2v",
        "outputId": "79651cfd-fcb4-4f59-b3d3-3cc3cc7cb8e0"
      },
      "source": [
        "from google.colab import drive\r\n",
        "drive.mount('/content/gdrive')\r\n",
        "\r\n",
        "!ls \"/content/gdrive/My Drive/GRU Stock Prediction/datasets\"\r\n",
        "\r\n",
        "PATH = '/content/gdrive/My Drive/GRU Stock Prediction/datasets/{symbol}'"
      ],
      "execution_count": 1,
      "outputs": [
        {
          "output_type": "stream",
          "text": [
            "Mounted at /content/gdrive\n",
            "TSLA.csv\n"
          ],
          "name": "stdout"
        }
      ]
    },
    {
      "cell_type": "code",
      "metadata": {
        "id": "oe5IJRZVPWET"
      },
      "source": [
        "import os\r\n",
        "import math\r\n",
        "import random\r\n",
        "import datetime\r\n",
        "import pandas as pd\r\n",
        "import numpy as np\r\n",
        "import matplotlib.pyplot as plt\r\n",
        "from sklearn.preprocessing import MinMaxScaler\r\n",
        "\r\n",
        "import torch\r\n",
        "import torch.nn as nn\r\n",
        "import torch.nn.functional as F\r\n",
        "import torch.optim as optim\r\n",
        "from torch.utils.data import TensorDataset, DataLoader"
      ],
      "execution_count": 35,
      "outputs": []
    },
    {
      "cell_type": "code",
      "metadata": {
        "colab": {
          "base_uri": "https://localhost:8080/",
          "height": 398
        },
        "id": "mSKnU1ynQywl",
        "outputId": "c8349e1c-8d37-4a50-f0e1-0772b7a2a47a"
      },
      "source": [
        "def fetch_df(symbols, dates, scale=True):\r\n",
        "    '''\r\n",
        "    csv loader and scaler for dataset\r\n",
        "    source: https://blog.floydhub.com/gru-with-pytorch/\r\n",
        "    '''\r\n",
        "    df = pd.DataFrame(index=dates)\r\n",
        "    label_scalers = {}\r\n",
        "\r\n",
        "    for symbol in symbols:\r\n",
        "        df_temp = pd.read_csv(PATH.format(symbol=symbol+'.csv'), index_col='Date', parse_dates=True, usecols=['Date', 'Close'], na_values=['nan'])\r\n",
        "        df_temp = df_temp.rename(columns={'Close': symbol})\r\n",
        "        df = df.join(df_temp)\r\n",
        "        if scale:\r\n",
        "            # normalize input features\r\n",
        "            sc = MinMaxScaler()\r\n",
        "            label_sc = MinMaxScaler()\r\n",
        "            data = sc.fit_transform(df_temp.values) \r\n",
        "\r\n",
        "            # store scaling for the labels when evaluating output\r\n",
        "            label_sc.fit(df.iloc[:,0].values.reshape(-1,1))\r\n",
        "            label_scalers[symbol] = label_sc\r\n",
        "\r\n",
        "    return df\r\n",
        "\r\n",
        "symbols = ['TSLA']\r\n",
        "dates = pd.date_range(start='2015-07-10',end='2020-07-10',freq='B')\r\n",
        "df = fetch_df(symbols, dates)\r\n",
        "\r\n",
        "print('Data shape:',df.shape)\r\n",
        "print(df.head(5))\r\n",
        "\r\n",
        "df = df.fillna(method='ffill')\r\n",
        "df.interpolate().plot()\r\n",
        "plt.xlabel('Date')\r\n",
        "plt.ylabel('Close')\r\n",
        "plt.show()"
      ],
      "execution_count": 3,
      "outputs": [
        {
          "output_type": "stream",
          "text": [
            "Data shape: (1306, 1)\n",
            "                 TSLA\n",
            "2015-07-10  51.830002\n",
            "2015-07-13  52.431999\n",
            "2015-07-14  53.130001\n",
            "2015-07-15  52.627998\n",
            "2015-07-16  53.335999\n"
          ],
          "name": "stdout"
        },
        {
          "output_type": "display_data",
          "data": {
            "image/png": "[encoded data removed]",
            "text/plain": [
              "<Figure size 432x288 with 1 Axes>"
            ]
          },
          "metadata": {
            "tags": [],
            "needs_background": "light"
          }
        }
      ]
    },
    {
      "cell_type": "markdown",
      "metadata": {
        "id": "kzpyB1nkTJdg"
      },
      "source": [
        "Split into test and training sets. "
      ]
    },
    {
      "cell_type": "code",
      "metadata": {
        "colab": {
          "base_uri": "https://localhost:8080/"
        },
        "id": "82l00NFhOBWW",
        "outputId": "85fc4cd8-59b6-41e0-d904-d0ba8cedffb9"
      },
      "source": [
        "# def min_max_scalar(x, feature_range=(0,1), dim=0):\r\n",
        "#     '''\r\n",
        "#     replicates behaviour of sklearn.preprocessing.MinMaxScalar\r\n",
        "#     '''\r\n",
        "#     x_std = (x - x.min(dim, keepdim=True).values) / (x.max(dim, keepdim=True).values - x.min(dim, keepdim=True).values)\r\n",
        "#     x_scaled = x_std * (feature_range[1] - feature_range[0]) + feature_range[0]\r\n",
        "#     return x_scaled, x_std\r\n",
        "\r\n",
        "\r\n",
        "def symbol_loader(df, symbol, lookback=20, test_split=0.2, shuffle=False):\r\n",
        "    '''\r\n",
        "    convert df of symbol close prices to a tensor array with (n-lookback) sequences of `lookback`\r\n",
        "    '''\r\n",
        "    price = torch.tensor(df[symbol].values)\r\n",
        "    T = len(price) - lookback\r\n",
        "    data = torch.zeros(T, lookback)\r\n",
        "\r\n",
        "    for i in range(T):\r\n",
        "        data[i,:] = price[i:i+lookback]\r\n",
        "    \r\n",
        "    print(data.shape)\r\n",
        "    data = data.view(T, 1, -1)\r\n",
        "    print(data.shape)\r\n",
        "\r\n",
        "    test_size = int(test_split * T)\r\n",
        "    train_size = T - test_size\r\n",
        "\r\n",
        "    idx = list(range(T))\r\n",
        "\r\n",
        "    if shuffle:\r\n",
        "        random.shuffle(idx)\r\n",
        "\r\n",
        "    x_train = data[idx[:train_size], :, :-1]\r\n",
        "    y_train = data[idx[:train_size], 0, -1]\r\n",
        "    x_test = data[idx[train_size:test_size+train_size], :, :-1]\r\n",
        "    y_test = data[idx[train_size:test_size+train_size], 0, -1]\r\n",
        "\r\n",
        "    return x_train, y_train, x_test, y_test, idx\r\n",
        "\r\n",
        "\r\n",
        "lookback = 20\r\n",
        "x_train, y_train, x_test, y_test, idx = symbol_loader(df, 'TSLA', lookback)\r\n",
        "\r\n",
        "print('x_train.shape:', x_train.shape)\r\n",
        "print('y_train.shape:', y_train.shape)\r\n",
        "print('x_test.shape:', x_test.shape)\r\n",
        "print('y_test.shape:', y_test.shape)"
      ],
      "execution_count": 68,
      "outputs": [
        {
          "output_type": "stream",
          "text": [
            "torch.Size([1286, 20])\n",
            "torch.Size([1286, 1, 20])\n",
            "x_train.shape: torch.Size([1029, 1, 19])\n",
            "y_train.shape: torch.Size([1029])\n",
            "x_test.shape: torch.Size([257, 1, 19])\n",
            "y_test.shape: torch.Size([257])\n"
          ],
          "name": "stdout"
        }
      ]
    },
    {
      "cell_type": "code",
      "metadata": {
        "id": "m15oMaBCodyH"
      },
      "source": [
        "# print(x_train)\r\n",
        "# print(x_train.min(0, keepdim=True).values)\r\n",
        "# print(x_train - x_train.min(0, keepdim=True).values)\r\n",
        "\r\n",
        "# sc = MinMaxScaler()\r\n",
        "# lsc = MinMaxScaler()\r\n",
        "# data = sc.fit_transform(df.values)\r\n",
        "# lsc.fit(df.iloc[:,0].values.reshape(-1,1))\r\n",
        "# print(lsc.inverse_transform(data))"
      ],
      "execution_count": 69,
      "outputs": []
    },
    {
      "cell_type": "code",
      "metadata": {
        "id": "zeMBJ1gFmA8g"
      },
      "source": [
        "class GRUNet(nn.Module):\r\n",
        "    def __init__(self, input_dim, hidden_dim, n_layers, output_dim, drop=0.2, bi=False):\r\n",
        "        super(GRUNet, self).__init__()\r\n",
        "        self.hidden_dim = hidden_dim\r\n",
        "        self.n_layers = n_layers\r\n",
        "\r\n",
        "        # n_layers stacked GRU cells - dropout applied except last layer\r\n",
        "        self.gru = nn.GRU(input_dim, hidden_dim, n_layers, batch_first=True, dropout=drop, bidirectional=bi)\r\n",
        "        # ReLU activation\r\n",
        "        self.relu = nn.ReLU()\r\n",
        "        # fully connected final layer\r\n",
        "        self.fc = nn.Linear(hidden_dim, output_dim)\r\n",
        "    \r\n",
        "\r\n",
        "    def init_hidden(self, batch_size):\r\n",
        "        weight = next(self.parameters()).data\r\n",
        "        hidden = weight.new(self.n_layers, batch_size, self.hidden_dim).zero_().to(device)\r\n",
        "        return hidden\r\n",
        "\r\n",
        "\r\n",
        "    def forward(self, x, h):\r\n",
        "        x, h = self.gru(x,h)\r\n",
        "        x = self.fc(self.relu(x[:,-1]))\r\n",
        "        return x, h\r\n",
        "\r\n",
        "class LSTMNet(nn.Module):\r\n",
        "    def __init__(self, input_dim, hidden_dim, n_layers, output_dim, drop=0.2):\r\n",
        "        super(LSTMNet, self).__init__()\r\n",
        "        self.hidden_dim = hidden_dim\r\n",
        "        self.n_layers = n_layers\r\n",
        "\r\n",
        "        self.lstm = nn.LSTM(input_dim, hidden_dim, n_layers, batch_first=True, dropout=drop)\r\n",
        "        self.relu = nn.ReLU()\r\n",
        "        self.fc = nn.Linear(hidden_dim, output_dim)\r\n",
        "    \r\n",
        "\r\n",
        "    def init_hidden(self, batch_size):\r\n",
        "        weight = next(self.parameters()).data\r\n",
        "        hidden = (weight.new(self.n_layers, batch_size, self.hidden_dim).zero_().to(device), \r\n",
        "                  weight.new(self.n_layers, batch_size, self.hidden_dim).zero_().to(device))\r\n",
        "        return hidden\r\n",
        "\r\n",
        "\r\n",
        "    def forward(self, x, h):\r\n",
        "        x, h = self.lstm(x,h)\r\n",
        "        x = self.fc(self.relu(x[:,-1]))\r\n",
        "        return x, h\r\n"
      ],
      "execution_count": 70,
      "outputs": []
    },
    {
      "cell_type": "code",
      "metadata": {
        "id": "6PBYpfhemBTv"
      },
      "source": [
        "def model_summary(model):\r\n",
        "    print('Model Summary\\n')\r\n",
        "    print('Layer Name'+'\\t'*7+'Number of Parameters')\r\n",
        "    print('='*100)\r\n",
        "    model_parameters = [layer for layer in model.parameters() if layer.requires_grad]\r\n",
        "    layer_name = [child for child in model.children()]\r\n",
        "    j = 0\r\n",
        "    total_params = 0\r\n",
        "    print('\\t'*10)\r\n",
        "    for i in layer_name:\r\n",
        "      print()\r\n",
        "      param = 0\r\n",
        "      try:\r\n",
        "        bias = (i.bias is not None)\r\n",
        "      except:\r\n",
        "        bias = False  \r\n",
        "      if not bias:\r\n",
        "        param = model_parameters[j].numel()+model_parameters[j+1].numel()\r\n",
        "        j = j + 2\r\n",
        "      else:\r\n",
        "        param = model_parameters[j].numel()\r\n",
        "        j = j + 1\r\n",
        "      print(str(i)+'\\t'*3+str(param))\r\n",
        "      total_params+=param\r\n",
        "    print('='*100)\r\n",
        "    print(f'Total Params:{total_params}')\r\n"
      ],
      "execution_count": 71,
      "outputs": []
    },
    {
      "cell_type": "code",
      "metadata": {
        "id": "ESVLjAOJymiT"
      },
      "source": [
        "'''\r\n",
        "Set parameters, initialize dataloader\r\n",
        "'''\r\n",
        "device = torch.device(\"cuda:0\" if torch.cuda.is_available() else \"cpu\")\r\n",
        "\r\n",
        "batch_size = 8\r\n",
        "epochs = 4\r\n",
        "lr = 0.0001\r\n",
        "\r\n",
        "train_data = TensorDataset(x_train, y_train)\r\n",
        "train_loader = DataLoader(train_data, shuffle=True, batch_size=batch_size, drop_last=True)\r\n"
      ],
      "execution_count": 72,
      "outputs": []
    },
    {
      "cell_type": "code",
      "metadata": {
        "colab": {
          "base_uri": "https://localhost:8080/",
          "height": 1000
        },
        "id": "WKGvaN1ruIQY",
        "outputId": "49f4fe6a-cb26-4472-9e61-21b15bb6ae49"
      },
      "source": [
        "def train(trainloader, lr, hidden_dim=128, epochs=5, n_layers=2, model='GRU'):\r\n",
        "    input_dim = next(iter(train_loader))[0].shape[1]\r\n",
        "    output_dim = 1\r\n",
        "    \r\n",
        "    '''instantiate models'''\r\n",
        "    if model == 'GRU':\r\n",
        "        net = GRUNet(input_dim, hidden_dim, output_dim, n_layers)\r\n",
        "    else:\r\n",
        "        net = LSTMNet(input_dim, hidden_dim, output_dim, n_layers)\r\n",
        "    model_summary(net)\r\n",
        "    net.to(device)\r\n",
        "    net.train()\r\n",
        "\r\n",
        "    '''criterion and optimizer'''\r\n",
        "    criterion = nn.MSELoss()\r\n",
        "    optimizer = optim.Adam(net.parameters(), lr=lr)\r\n",
        "\r\n",
        "    '''train for specified epochs'''\r\n",
        "    print('Starting training...')\r\n",
        "    start = time.time()\r\n",
        "\r\n",
        "    losses = []\r\n",
        "\r\n",
        "    for epoch in range(epochs):\r\n",
        "        h = net.init_hidden(batch_size)\r\n",
        "        running_loss = 0.\r\n",
        "        for i, data in enumerate(trainloader, 0):\r\n",
        "            optimizer.zero_grad()\r\n",
        "            net.zero_grad()\r\n",
        "\r\n",
        "            input, label = data\r\n",
        "\r\n",
        "            if model == 'GRU':\r\n",
        "                h = h.data\r\n",
        "            else:\r\n",
        "                h = tuple([h_.data for h_ in h])\r\n",
        "          \r\n",
        "            out, h = net(input.to(device).float(), h)\r\n",
        "            loss = criterion(out, label.to(device).float())\r\n",
        "\r\n",
        "            loss.backward()\r\n",
        "            optimizer.step()\r\n",
        "\r\n",
        "            running_loss += loss.item()\r\n",
        "\r\n",
        "            if i % 20 == 0:\r\n",
        "                print('Epoch: {} \\tStep: {}/{} \\tAverage loss: {}'.format(epoch+1, i, len(trainloader), running_loss/i))\r\n",
        "                losses.append(running_loss)\r\n",
        "\r\n",
        "    print('Training complete... Final Loss: {}\\nSeconds elapsed:{}'.format(loss, time.time()-start))\r\n",
        "    return net\r\n",
        "\r\n",
        "\r\n",
        "train(train_loader, lr)\r\n",
        "\r\n"
      ],
      "execution_count": 73,
      "outputs": [
        {
          "output_type": "stream",
          "text": [
            "Model Summary\n",
            "\n",
            "Layer Name\t\t\t\t\t\t\tNumber of Parameters\n",
            "====================================================================================================\n",
            "\t\t\t\t\t\t\t\t\t\t\n",
            "\n",
            "GRU(1, 128, batch_first=True, dropout=0.2)\t\t\t384\n",
            "\n",
            "ReLU()\t\t\t49536\n",
            "\n",
            "Linear(in_features=128, out_features=2, bias=True)\t\t\t384\n",
            "====================================================================================================\n",
            "Total Params:50304\n",
            "Starting training...\n"
          ],
          "name": "stdout"
        },
        {
          "output_type": "stream",
          "text": [
            "/usr/local/lib/python3.6/dist-packages/torch/nn/modules/rnn.py:61: UserWarning: dropout option adds dropout after all but last recurrent layer, so non-zero dropout expects num_layers greater than 1, but got dropout=0.2 and num_layers=1\n",
            "  \"num_layers={}\".format(dropout, num_layers))\n"
          ],
          "name": "stderr"
        },
        {
          "output_type": "error",
          "ename": "RuntimeError",
          "evalue": "ignored",
          "traceback": [
            "\u001b[0;31m---------------------------------------------------------------------------\u001b[0m",
            "\u001b[0;31mRuntimeError\u001b[0m                              Traceback (most recent call last)",
            "\u001b[0;32m<ipython-input-73-0f3f81a04898>\u001b[0m in \u001b[0;36m<module>\u001b[0;34m()\u001b[0m\n\u001b[1;32m     52\u001b[0m \u001b[0;34m\u001b[0m\u001b[0m\n\u001b[1;32m     53\u001b[0m \u001b[0;34m\u001b[0m\u001b[0m\n\u001b[0;32m---> 54\u001b[0;31m \u001b[0mtrain\u001b[0m\u001b[0;34m(\u001b[0m\u001b[0mtrain_loader\u001b[0m\u001b[0;34m,\u001b[0m \u001b[0mlr\u001b[0m\u001b[0;34m)\u001b[0m\u001b[0;34m\u001b[0m\u001b[0;34m\u001b[0m\u001b[0m\n\u001b[0m\u001b[1;32m     55\u001b[0m \u001b[0;34m\u001b[0m\u001b[0m\n",
            "\u001b[0;32m<ipython-input-73-0f3f81a04898>\u001b[0m in \u001b[0;36mtrain\u001b[0;34m(trainloader, lr, hidden_dim, epochs, n_layers, model)\u001b[0m\n\u001b[1;32m     36\u001b[0m                 \u001b[0mh\u001b[0m \u001b[0;34m=\u001b[0m \u001b[0mtuple\u001b[0m\u001b[0;34m(\u001b[0m\u001b[0;34m[\u001b[0m\u001b[0mh_\u001b[0m\u001b[0;34m.\u001b[0m\u001b[0mdata\u001b[0m \u001b[0;32mfor\u001b[0m \u001b[0mh_\u001b[0m \u001b[0;32min\u001b[0m \u001b[0mh\u001b[0m\u001b[0;34m]\u001b[0m\u001b[0;34m)\u001b[0m\u001b[0;34m\u001b[0m\u001b[0;34m\u001b[0m\u001b[0m\n\u001b[1;32m     37\u001b[0m \u001b[0;34m\u001b[0m\u001b[0m\n\u001b[0;32m---> 38\u001b[0;31m             \u001b[0mout\u001b[0m\u001b[0;34m,\u001b[0m \u001b[0mh\u001b[0m \u001b[0;34m=\u001b[0m \u001b[0mnet\u001b[0m\u001b[0;34m(\u001b[0m\u001b[0minput\u001b[0m\u001b[0;34m.\u001b[0m\u001b[0mto\u001b[0m\u001b[0;34m(\u001b[0m\u001b[0mdevice\u001b[0m\u001b[0;34m)\u001b[0m\u001b[0;34m.\u001b[0m\u001b[0mfloat\u001b[0m\u001b[0;34m(\u001b[0m\u001b[0;34m)\u001b[0m\u001b[0;34m,\u001b[0m \u001b[0mh\u001b[0m\u001b[0;34m)\u001b[0m\u001b[0;34m\u001b[0m\u001b[0;34m\u001b[0m\u001b[0m\n\u001b[0m\u001b[1;32m     39\u001b[0m             \u001b[0mloss\u001b[0m \u001b[0;34m=\u001b[0m \u001b[0mcriterion\u001b[0m\u001b[0;34m(\u001b[0m\u001b[0mout\u001b[0m\u001b[0;34m,\u001b[0m \u001b[0mlabel\u001b[0m\u001b[0;34m.\u001b[0m\u001b[0mto\u001b[0m\u001b[0;34m(\u001b[0m\u001b[0mdevice\u001b[0m\u001b[0;34m)\u001b[0m\u001b[0;34m.\u001b[0m\u001b[0mfloat\u001b[0m\u001b[0;34m(\u001b[0m\u001b[0;34m)\u001b[0m\u001b[0;34m)\u001b[0m\u001b[0;34m\u001b[0m\u001b[0;34m\u001b[0m\u001b[0m\n\u001b[1;32m     40\u001b[0m \u001b[0;34m\u001b[0m\u001b[0m\n",
            "\u001b[0;32m/usr/local/lib/python3.6/dist-packages/torch/nn/modules/module.py\u001b[0m in \u001b[0;36m_call_impl\u001b[0;34m(self, *input, **kwargs)\u001b[0m\n\u001b[1;32m    725\u001b[0m             \u001b[0mresult\u001b[0m \u001b[0;34m=\u001b[0m \u001b[0mself\u001b[0m\u001b[0;34m.\u001b[0m\u001b[0m_slow_forward\u001b[0m\u001b[0;34m(\u001b[0m\u001b[0;34m*\u001b[0m\u001b[0minput\u001b[0m\u001b[0;34m,\u001b[0m \u001b[0;34m**\u001b[0m\u001b[0mkwargs\u001b[0m\u001b[0;34m)\u001b[0m\u001b[0;34m\u001b[0m\u001b[0;34m\u001b[0m\u001b[0m\n\u001b[1;32m    726\u001b[0m         \u001b[0;32melse\u001b[0m\u001b[0;34m:\u001b[0m\u001b[0;34m\u001b[0m\u001b[0;34m\u001b[0m\u001b[0m\n\u001b[0;32m--> 727\u001b[0;31m             \u001b[0mresult\u001b[0m \u001b[0;34m=\u001b[0m \u001b[0mself\u001b[0m\u001b[0;34m.\u001b[0m\u001b[0mforward\u001b[0m\u001b[0;34m(\u001b[0m\u001b[0;34m*\u001b[0m\u001b[0minput\u001b[0m\u001b[0;34m,\u001b[0m \u001b[0;34m**\u001b[0m\u001b[0mkwargs\u001b[0m\u001b[0;34m)\u001b[0m\u001b[0;34m\u001b[0m\u001b[0;34m\u001b[0m\u001b[0m\n\u001b[0m\u001b[1;32m    728\u001b[0m         for hook in itertools.chain(\n\u001b[1;32m    729\u001b[0m                 \u001b[0m_global_forward_hooks\u001b[0m\u001b[0;34m.\u001b[0m\u001b[0mvalues\u001b[0m\u001b[0;34m(\u001b[0m\u001b[0;34m)\u001b[0m\u001b[0;34m,\u001b[0m\u001b[0;34m\u001b[0m\u001b[0;34m\u001b[0m\u001b[0m\n",
            "\u001b[0;32m<ipython-input-70-eff584e25ca3>\u001b[0m in \u001b[0;36mforward\u001b[0;34m(self, x, h)\u001b[0m\n\u001b[1;32m     20\u001b[0m \u001b[0;34m\u001b[0m\u001b[0m\n\u001b[1;32m     21\u001b[0m     \u001b[0;32mdef\u001b[0m \u001b[0mforward\u001b[0m\u001b[0;34m(\u001b[0m\u001b[0mself\u001b[0m\u001b[0;34m,\u001b[0m \u001b[0mx\u001b[0m\u001b[0;34m,\u001b[0m \u001b[0mh\u001b[0m\u001b[0;34m)\u001b[0m\u001b[0;34m:\u001b[0m\u001b[0;34m\u001b[0m\u001b[0;34m\u001b[0m\u001b[0m\n\u001b[0;32m---> 22\u001b[0;31m         \u001b[0mx\u001b[0m\u001b[0;34m,\u001b[0m \u001b[0mh\u001b[0m \u001b[0;34m=\u001b[0m \u001b[0mself\u001b[0m\u001b[0;34m.\u001b[0m\u001b[0mgru\u001b[0m\u001b[0;34m(\u001b[0m\u001b[0mx\u001b[0m\u001b[0;34m,\u001b[0m\u001b[0mh\u001b[0m\u001b[0;34m)\u001b[0m\u001b[0;34m\u001b[0m\u001b[0;34m\u001b[0m\u001b[0m\n\u001b[0m\u001b[1;32m     23\u001b[0m         \u001b[0mx\u001b[0m \u001b[0;34m=\u001b[0m \u001b[0mself\u001b[0m\u001b[0;34m.\u001b[0m\u001b[0mfc\u001b[0m\u001b[0;34m(\u001b[0m\u001b[0mself\u001b[0m\u001b[0;34m.\u001b[0m\u001b[0mrelu\u001b[0m\u001b[0;34m(\u001b[0m\u001b[0mx\u001b[0m\u001b[0;34m[\u001b[0m\u001b[0;34m:\u001b[0m\u001b[0;34m,\u001b[0m\u001b[0;34m-\u001b[0m\u001b[0;36m1\u001b[0m\u001b[0;34m]\u001b[0m\u001b[0;34m)\u001b[0m\u001b[0;34m)\u001b[0m\u001b[0;34m\u001b[0m\u001b[0;34m\u001b[0m\u001b[0m\n\u001b[1;32m     24\u001b[0m         \u001b[0;32mreturn\u001b[0m \u001b[0mx\u001b[0m\u001b[0;34m,\u001b[0m \u001b[0mh\u001b[0m\u001b[0;34m\u001b[0m\u001b[0;34m\u001b[0m\u001b[0m\n",
            "\u001b[0;32m/usr/local/lib/python3.6/dist-packages/torch/nn/modules/module.py\u001b[0m in \u001b[0;36m_call_impl\u001b[0;34m(self, *input, **kwargs)\u001b[0m\n\u001b[1;32m    725\u001b[0m             \u001b[0mresult\u001b[0m \u001b[0;34m=\u001b[0m \u001b[0mself\u001b[0m\u001b[0;34m.\u001b[0m\u001b[0m_slow_forward\u001b[0m\u001b[0;34m(\u001b[0m\u001b[0;34m*\u001b[0m\u001b[0minput\u001b[0m\u001b[0;34m,\u001b[0m \u001b[0;34m**\u001b[0m\u001b[0mkwargs\u001b[0m\u001b[0;34m)\u001b[0m\u001b[0;34m\u001b[0m\u001b[0;34m\u001b[0m\u001b[0m\n\u001b[1;32m    726\u001b[0m         \u001b[0;32melse\u001b[0m\u001b[0;34m:\u001b[0m\u001b[0;34m\u001b[0m\u001b[0;34m\u001b[0m\u001b[0m\n\u001b[0;32m--> 727\u001b[0;31m             \u001b[0mresult\u001b[0m \u001b[0;34m=\u001b[0m \u001b[0mself\u001b[0m\u001b[0;34m.\u001b[0m\u001b[0mforward\u001b[0m\u001b[0;34m(\u001b[0m\u001b[0;34m*\u001b[0m\u001b[0minput\u001b[0m\u001b[0;34m,\u001b[0m \u001b[0;34m**\u001b[0m\u001b[0mkwargs\u001b[0m\u001b[0;34m)\u001b[0m\u001b[0;34m\u001b[0m\u001b[0;34m\u001b[0m\u001b[0m\n\u001b[0m\u001b[1;32m    728\u001b[0m         for hook in itertools.chain(\n\u001b[1;32m    729\u001b[0m                 \u001b[0m_global_forward_hooks\u001b[0m\u001b[0;34m.\u001b[0m\u001b[0mvalues\u001b[0m\u001b[0;34m(\u001b[0m\u001b[0;34m)\u001b[0m\u001b[0;34m,\u001b[0m\u001b[0;34m\u001b[0m\u001b[0;34m\u001b[0m\u001b[0m\n",
            "\u001b[0;32m/usr/local/lib/python3.6/dist-packages/torch/nn/modules/rnn.py\u001b[0m in \u001b[0;36mforward\u001b[0;34m(self, input, hx)\u001b[0m\n\u001b[1;32m    735\u001b[0m             \u001b[0mhx\u001b[0m \u001b[0;34m=\u001b[0m \u001b[0mself\u001b[0m\u001b[0;34m.\u001b[0m\u001b[0mpermute_hidden\u001b[0m\u001b[0;34m(\u001b[0m\u001b[0mhx\u001b[0m\u001b[0;34m,\u001b[0m \u001b[0msorted_indices\u001b[0m\u001b[0;34m)\u001b[0m\u001b[0;34m\u001b[0m\u001b[0;34m\u001b[0m\u001b[0m\n\u001b[1;32m    736\u001b[0m \u001b[0;34m\u001b[0m\u001b[0m\n\u001b[0;32m--> 737\u001b[0;31m         \u001b[0mself\u001b[0m\u001b[0;34m.\u001b[0m\u001b[0mcheck_forward_args\u001b[0m\u001b[0;34m(\u001b[0m\u001b[0minput\u001b[0m\u001b[0;34m,\u001b[0m \u001b[0mhx\u001b[0m\u001b[0;34m,\u001b[0m \u001b[0mbatch_sizes\u001b[0m\u001b[0;34m)\u001b[0m\u001b[0;34m\u001b[0m\u001b[0;34m\u001b[0m\u001b[0m\n\u001b[0m\u001b[1;32m    738\u001b[0m         \u001b[0;32mif\u001b[0m \u001b[0mbatch_sizes\u001b[0m \u001b[0;32mis\u001b[0m \u001b[0;32mNone\u001b[0m\u001b[0;34m:\u001b[0m\u001b[0;34m\u001b[0m\u001b[0;34m\u001b[0m\u001b[0m\n\u001b[1;32m    739\u001b[0m             result = _VF.gru(input, hx, self._flat_weights, self.bias, self.num_layers,\n",
            "\u001b[0;32m/usr/local/lib/python3.6/dist-packages/torch/nn/modules/rnn.py\u001b[0m in \u001b[0;36mcheck_forward_args\u001b[0;34m(self, input, hidden, batch_sizes)\u001b[0m\n\u001b[1;32m    197\u001b[0m \u001b[0;34m\u001b[0m\u001b[0m\n\u001b[1;32m    198\u001b[0m     \u001b[0;32mdef\u001b[0m \u001b[0mcheck_forward_args\u001b[0m\u001b[0;34m(\u001b[0m\u001b[0mself\u001b[0m\u001b[0;34m,\u001b[0m \u001b[0minput\u001b[0m\u001b[0;34m:\u001b[0m \u001b[0mTensor\u001b[0m\u001b[0;34m,\u001b[0m \u001b[0mhidden\u001b[0m\u001b[0;34m:\u001b[0m \u001b[0mTensor\u001b[0m\u001b[0;34m,\u001b[0m \u001b[0mbatch_sizes\u001b[0m\u001b[0;34m:\u001b[0m \u001b[0mOptional\u001b[0m\u001b[0;34m[\u001b[0m\u001b[0mTensor\u001b[0m\u001b[0;34m]\u001b[0m\u001b[0;34m)\u001b[0m\u001b[0;34m:\u001b[0m\u001b[0;34m\u001b[0m\u001b[0;34m\u001b[0m\u001b[0m\n\u001b[0;32m--> 199\u001b[0;31m         \u001b[0mself\u001b[0m\u001b[0;34m.\u001b[0m\u001b[0mcheck_input\u001b[0m\u001b[0;34m(\u001b[0m\u001b[0minput\u001b[0m\u001b[0;34m,\u001b[0m \u001b[0mbatch_sizes\u001b[0m\u001b[0;34m)\u001b[0m\u001b[0;34m\u001b[0m\u001b[0;34m\u001b[0m\u001b[0m\n\u001b[0m\u001b[1;32m    200\u001b[0m         \u001b[0mexpected_hidden_size\u001b[0m \u001b[0;34m=\u001b[0m \u001b[0mself\u001b[0m\u001b[0;34m.\u001b[0m\u001b[0mget_expected_hidden_size\u001b[0m\u001b[0;34m(\u001b[0m\u001b[0minput\u001b[0m\u001b[0;34m,\u001b[0m \u001b[0mbatch_sizes\u001b[0m\u001b[0;34m)\u001b[0m\u001b[0;34m\u001b[0m\u001b[0;34m\u001b[0m\u001b[0m\n\u001b[1;32m    201\u001b[0m \u001b[0;34m\u001b[0m\u001b[0m\n",
            "\u001b[0;32m/usr/local/lib/python3.6/dist-packages/torch/nn/modules/rnn.py\u001b[0m in \u001b[0;36mcheck_input\u001b[0;34m(self, input, batch_sizes)\u001b[0m\n\u001b[1;32m    178\u001b[0m             raise RuntimeError(\n\u001b[1;32m    179\u001b[0m                 'input.size(-1) must be equal to input_size. Expected {}, got {}'.format(\n\u001b[0;32m--> 180\u001b[0;31m                     self.input_size, input.size(-1)))\n\u001b[0m\u001b[1;32m    181\u001b[0m \u001b[0;34m\u001b[0m\u001b[0m\n\u001b[1;32m    182\u001b[0m     \u001b[0;32mdef\u001b[0m \u001b[0mget_expected_hidden_size\u001b[0m\u001b[0;34m(\u001b[0m\u001b[0mself\u001b[0m\u001b[0;34m,\u001b[0m \u001b[0minput\u001b[0m\u001b[0;34m:\u001b[0m \u001b[0mTensor\u001b[0m\u001b[0;34m,\u001b[0m \u001b[0mbatch_sizes\u001b[0m\u001b[0;34m:\u001b[0m \u001b[0mOptional\u001b[0m\u001b[0;34m[\u001b[0m\u001b[0mTensor\u001b[0m\u001b[0;34m]\u001b[0m\u001b[0;34m)\u001b[0m \u001b[0;34m->\u001b[0m \u001b[0mTuple\u001b[0m\u001b[0;34m[\u001b[0m\u001b[0mint\u001b[0m\u001b[0;34m,\u001b[0m \u001b[0mint\u001b[0m\u001b[0;34m,\u001b[0m \u001b[0mint\u001b[0m\u001b[0;34m]\u001b[0m\u001b[0;34m:\u001b[0m\u001b[0;34m\u001b[0m\u001b[0;34m\u001b[0m\u001b[0m\n",
            "\u001b[0;31mRuntimeError\u001b[0m: input.size(-1) must be equal to input_size. Expected 1, got 19"
          ]
        }
      ]
    },
    {
      "cell_type": "code",
      "metadata": {
        "colab": {
          "base_uri": "https://localhost:8080/"
        },
        "id": "UBaUOPVl64rV",
        "outputId": "db8af6cb-3721-4321-b342-8fb3c6a4da44"
      },
      "source": [
        ""
      ],
      "execution_count": 47,
      "outputs": [
        {
          "output_type": "execute_result",
          "data": {
            "text/plain": [
              "1609286017.8016949"
            ]
          },
          "metadata": {
            "tags": []
          },
          "execution_count": 47
        }
      ]
    }
  ]
}