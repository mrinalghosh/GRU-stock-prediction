{
  "nbformat": 4,
  "nbformat_minor": 0,
  "metadata": {
    "colab": {
      "name": "GRU-stock-prediction.ipynb",
      "provenance": [],
      "collapsed_sections": []
    },
    "kernelspec": {
      "name": "python3",
      "display_name": "Python 3"
    },
    "accelerator": "GPU"
  },
  "cells": [
    {
      "cell_type": "markdown",
      "metadata": {
        "id": "_sbxpN8jRHG8"
      },
      "source": [
        "PyTorch GRU based stock prediction model. Inspired by this Medium [article](https://towardsdatascience.com/lstm-time-series-forecasting-predicting-stock-prices-using-an-lstm-model-6223e9644a2f) and this Kaggle [post](https://www.kaggle.com/taronzakaryan/stock-prediction-lstm-using-pytorch) on stock prediction. I wanted to benchmark how a GRU performed compared to the LSTMs used previously."
      ]
    },
    {
      "cell_type": "code",
      "metadata": {
        "colab": {
          "base_uri": "https://localhost:8080/"
        },
        "id": "LIR4MstFNl2v",
        "outputId": "d7fb6e1d-2d93-431a-e83e-53441909fca8"
      },
      "source": [
        "from google.colab import drive\r\n",
        "drive.mount('/content/gdrive')\r\n",
        "\r\n",
        "!ls \"/content/gdrive/My Drive/GRU Stock Prediction/datasets\"\r\n",
        "\r\n",
        "PATH = '/content/gdrive/My Drive/GRU Stock Prediction/datasets/{symbol}'"
      ],
      "execution_count": 1,
      "outputs": [
        {
          "output_type": "stream",
          "text": [
            "Mounted at /content/gdrive\n",
            "TSLA.csv\n"
          ],
          "name": "stdout"
        }
      ]
    },
    {
      "cell_type": "code",
      "metadata": {
        "id": "oe5IJRZVPWET"
      },
      "source": [
        "import os\r\n",
        "import math\r\n",
        "import random\r\n",
        "import time\r\n",
        "import datetime\r\n",
        "import pandas as pd\r\n",
        "import numpy as np\r\n",
        "import matplotlib.pyplot as plt\r\n",
        "from sklearn.preprocessing import MinMaxScaler\r\n",
        "\r\n",
        "import torch\r\n",
        "import torch.nn as nn\r\n",
        "import torch.nn.functional as F\r\n",
        "import torch.optim as optim\r\n",
        "from torch.utils.data import TensorDataset, DataLoader"
      ],
      "execution_count": 10,
      "outputs": []
    },
    {
      "cell_type": "code",
      "metadata": {
        "colab": {
          "base_uri": "https://localhost:8080/",
          "height": 398
        },
        "id": "mSKnU1ynQywl",
        "outputId": "70286983-76e8-4410-abfc-9842ef14a656"
      },
      "source": [
        "def fetch_df(symbols, dates, scale=True):\r\n",
        "    '''\r\n",
        "    csv loader and scaler for dataset\r\n",
        "    source: https://blog.floydhub.com/gru-with-pytorch/\r\n",
        "    '''\r\n",
        "    df = pd.DataFrame(index=dates)\r\n",
        "    label_scalers = {}\r\n",
        "\r\n",
        "    for symbol in symbols:\r\n",
        "        df_temp = pd.read_csv(PATH.format(symbol=symbol+'.csv'), index_col='Date', parse_dates=True, usecols=['Date', 'Close'], na_values=['nan'])\r\n",
        "        df_temp = df_temp.rename(columns={'Close': symbol})\r\n",
        "        df = df.join(df_temp)\r\n",
        "        if scale:\r\n",
        "            # normalize input features\r\n",
        "            sc = MinMaxScaler()\r\n",
        "            label_sc = MinMaxScaler()\r\n",
        "            data = sc.fit_transform(df_temp.values) \r\n",
        "\r\n",
        "            # store scaling for the labels when evaluating output\r\n",
        "            label_sc.fit(df.iloc[:,0].values.reshape(-1,1))\r\n",
        "            label_scalers[symbol] = label_sc\r\n",
        "\r\n",
        "    return df\r\n",
        "\r\n",
        "symbols = ['TSLA']\r\n",
        "dates = pd.date_range(start='2015-07-10',end='2020-07-10',freq='B')\r\n",
        "df = fetch_df(symbols, dates)\r\n",
        "\r\n",
        "print('Data shape:',df.shape)\r\n",
        "print(df.head(5))\r\n",
        "\r\n",
        "df = df.fillna(method='ffill')\r\n",
        "df.interpolate().plot()\r\n",
        "plt.xlabel('Date')\r\n",
        "plt.ylabel('Close')\r\n",
        "plt.show()"
      ],
      "execution_count": 3,
      "outputs": [
        {
          "output_type": "stream",
          "text": [
            "Data shape: (1306, 1)\n",
            "                 TSLA\n",
            "2015-07-10  51.830002\n",
            "2015-07-13  52.431999\n",
            "2015-07-14  53.130001\n",
            "2015-07-15  52.627998\n",
            "2015-07-16  53.335999\n"
          ],
          "name": "stdout"
        },
        {
          "output_type": "display_data",
          "data": {
            "image/png": "[encoded data removed]",
            "text/plain": [
              "<Figure size 432x288 with 1 Axes>"
            ]
          },
          "metadata": {
            "tags": [],
            "needs_background": "light"
          }
        }
      ]
    },
    {
      "cell_type": "markdown",
      "metadata": {
        "id": "kzpyB1nkTJdg"
      },
      "source": [
        "Split into test and training sets. "
      ]
    },
    {
      "cell_type": "code",
      "metadata": {
        "colab": {
          "base_uri": "https://localhost:8080/"
        },
        "id": "82l00NFhOBWW",
        "outputId": "2a5aed33-766f-4099-ba66-043d5b98f869"
      },
      "source": [
        "# def min_max_scalar(x, feature_range=(0,1), dim=0):\r\n",
        "#     '''\r\n",
        "#     replicates behaviour of sklearn.preprocessing.MinMaxScalar\r\n",
        "#     '''\r\n",
        "#     x_std = (x - x.min(dim, keepdim=True).values) / (x.max(dim, keepdim=True).values - x.min(dim, keepdim=True).values)\r\n",
        "#     x_scaled = x_std * (feature_range[1] - feature_range[0]) + feature_range[0]\r\n",
        "#     return x_scaled, x_std\r\n",
        "\r\n",
        "\r\n",
        "def symbol_loader(df, symbol, lookback=20, test_split=0.2, shuffle=False):\r\n",
        "    '''\r\n",
        "    convert df of symbol close prices to a tensor array with (n-lookback) sequences of `lookback`\r\n",
        "    '''\r\n",
        "    price = torch.tensor(df[symbol].values)\r\n",
        "    T = len(price) - lookback\r\n",
        "    data = torch.zeros(T, lookback)\r\n",
        "\r\n",
        "    for i in range(T):\r\n",
        "        data[i,:] = price[i:i+lookback]\r\n",
        "    \r\n",
        "    test_size = int(test_split * T)\r\n",
        "    train_size = T - test_size\r\n",
        "\r\n",
        "    idx = list(range(T))\r\n",
        "\r\n",
        "    if shuffle:\r\n",
        "        random.shuffle(idx)\r\n",
        "\r\n",
        "    print(data.shape)\r\n",
        "    data = data.view(T, -1, 1)\r\n",
        "    print(data.shape)\r\n",
        "\r\n",
        "    x_train = data[idx[:train_size], :-1, :]\r\n",
        "    y_train = data[idx[:train_size], -1, :]\r\n",
        "    x_test = data[idx[train_size:test_size+train_size], :-1, :]\r\n",
        "    y_test = data[idx[train_size:test_size+train_size], -1, :]\r\n",
        "\r\n",
        "    return x_train, y_train, x_test, y_test, idx\r\n",
        "\r\n",
        "\r\n",
        "lookback = 20\r\n",
        "x_train, y_train, x_test, y_test, idx = symbol_loader(df, 'TSLA', lookback)\r\n",
        "\r\n",
        "print('x_train.shape:', x_train.shape)\r\n",
        "print('y_train.shape:', y_train.shape)\r\n",
        "print('x_test.shape:', x_test.shape)\r\n",
        "print('y_test.shape:', y_test.shape)"
      ],
      "execution_count": 4,
      "outputs": [
        {
          "output_type": "stream",
          "text": [
            "torch.Size([1286, 20])\n",
            "torch.Size([1286, 20, 1])\n",
            "x_train.shape: torch.Size([1029, 19, 1])\n",
            "y_train.shape: torch.Size([1029, 1])\n",
            "x_test.shape: torch.Size([257, 19, 1])\n",
            "y_test.shape: torch.Size([257, 1])\n"
          ],
          "name": "stdout"
        }
      ]
    },
    {
      "cell_type": "code",
      "metadata": {
        "id": "zeMBJ1gFmA8g"
      },
      "source": [
        "class GRUNet(nn.Module):\r\n",
        "    def __init__(self, input_dim, hidden_dim, n_layers, output_dim, drop=0.2, bi=False):\r\n",
        "        super(GRUNet, self).__init__()\r\n",
        "        self.hidden_dim = hidden_dim\r\n",
        "        self.n_layers = n_layers\r\n",
        "\r\n",
        "        # n_layers stacked GRU cells - dropout applied except last layer\r\n",
        "        self.gru = nn.GRU(input_dim, hidden_dim, n_layers, batch_first=True, dropout=drop, bidirectional=bi)\r\n",
        "        # ReLU activation\r\n",
        "        self.relu = nn.ReLU()\r\n",
        "        # fully connected final layer\r\n",
        "        self.fc = nn.Linear(hidden_dim, output_dim)\r\n",
        "    \r\n",
        "\r\n",
        "    def init_hidden(self, batch_size):\r\n",
        "        weight = next(self.parameters()).data\r\n",
        "        hidden = weight.new(self.n_layers, batch_size, self.hidden_dim).zero_().to(device)\r\n",
        "        return hidden\r\n",
        "\r\n",
        "\r\n",
        "    def forward(self, x, h):\r\n",
        "        x, h = self.gru(x,h)\r\n",
        "        x = self.fc(self.relu(x[:,-1]))\r\n",
        "        return x, h\r\n",
        "\r\n",
        "class LSTMNet(nn.Module):\r\n",
        "    def __init__(self, input_dim, hidden_dim, n_layers, output_dim, drop=0.2):\r\n",
        "        super(LSTMNet, self).__init__()\r\n",
        "        self.hidden_dim = hidden_dim\r\n",
        "        self.n_layers = n_layers\r\n",
        "\r\n",
        "        self.lstm = nn.LSTM(input_dim, hidden_dim, n_layers, batch_first=True, dropout=drop)\r\n",
        "        self.relu = nn.ReLU()\r\n",
        "        self.fc = nn.Linear(hidden_dim, output_dim)\r\n",
        "    \r\n",
        "\r\n",
        "    def init_hidden(self, batch_size):\r\n",
        "        weight = next(self.parameters()).data\r\n",
        "        hidden = (weight.new(self.n_layers, batch_size, self.hidden_dim).zero_().to(device), \r\n",
        "                  weight.new(self.n_layers, batch_size, self.hidden_dim).zero_().to(device))\r\n",
        "        return hidden\r\n",
        "\r\n",
        "\r\n",
        "    def forward(self, x, h):\r\n",
        "        x, h = self.lstm(x,h)\r\n",
        "        x = self.fc(self.relu(x[:,-1]))\r\n",
        "        return x, h\r\n"
      ],
      "execution_count": 5,
      "outputs": []
    },
    {
      "cell_type": "code",
      "metadata": {
        "id": "6PBYpfhemBTv"
      },
      "source": [
        "def model_summary(model):\r\n",
        "    print('Model Summary\\n')\r\n",
        "    print('Layer Name'+'\\t'*7+'Number of Parameters')\r\n",
        "    print('='*100)\r\n",
        "    model_parameters = [layer for layer in model.parameters() if layer.requires_grad]\r\n",
        "    layer_name = [child for child in model.children()]\r\n",
        "    j = 0\r\n",
        "    total_params = 0\r\n",
        "    print('\\t'*10)\r\n",
        "    for i in layer_name:\r\n",
        "      print()\r\n",
        "      param = 0\r\n",
        "      try:\r\n",
        "        bias = (i.bias is not None)\r\n",
        "      except:\r\n",
        "        bias = False  \r\n",
        "      if not bias:\r\n",
        "        param = model_parameters[j].numel()+model_parameters[j+1].numel()\r\n",
        "        j = j + 2\r\n",
        "      else:\r\n",
        "        param = model_parameters[j].numel()\r\n",
        "        j = j + 1\r\n",
        "      print(str(i)+'\\t'*3+str(param))\r\n",
        "      total_params+=param\r\n",
        "    print('='*100)\r\n",
        "    print(f'Total Params:{total_params}')\r\n"
      ],
      "execution_count": 6,
      "outputs": []
    },
    {
      "cell_type": "code",
      "metadata": {
        "id": "ESVLjAOJymiT"
      },
      "source": [
        "'''\r\n",
        "Set parameters, initialize dataloader\r\n",
        "'''\r\n",
        "device = torch.device(\"cuda:0\" if torch.cuda.is_available() else \"cpu\")\r\n",
        "\r\n",
        "batch_size = 4\r\n",
        "epochs = 10\r\n",
        "lr = 0.001\r\n",
        "\r\n",
        "traindata = TensorDataset(x_train, y_train)\r\n",
        "trainloader = DataLoader(traindata, shuffle=True, batch_size=batch_size, drop_last=True)\r\n",
        "testdata = TensorDataset(x_test, y_test)\r\n",
        "testloader = DataLoader(testdata, shuffle=True, batch_size=batch_size, drop_last=True)"
      ],
      "execution_count": 37,
      "outputs": []
    },
    {
      "cell_type": "code",
      "metadata": {
        "colab": {
          "base_uri": "https://localhost:8080/"
        },
        "id": "WKGvaN1ruIQY",
        "outputId": "e6870230-959a-45f4-b543-d33bfce692fe"
      },
      "source": [
        "def train(trainloader, lr=0.01, hidden_dim=128, epochs=5, n_layers=3, model='GRU'):\r\n",
        "    input_dim = next(iter(trainloader))[0].shape[2]\r\n",
        "    output_dim = 1\r\n",
        "    \r\n",
        "    '''instantiate models'''\r\n",
        "    if model == 'GRU':\r\n",
        "        net = GRUNet(input_dim, hidden_dim, n_layers, output_dim)\r\n",
        "    else:\r\n",
        "        net = LSTMNet(input_dim, hidden_dim, n_layers, output_dim)\r\n",
        "    # model_summary(net)\r\n",
        "    net.to(device)\r\n",
        "    net.train()\r\n",
        "\r\n",
        "    '''criterion and optimizer'''\r\n",
        "    criterion = nn.MSELoss()\r\n",
        "    optimizer = optim.Adam(net.parameters(), lr=lr)\r\n",
        "\r\n",
        "    '''train for specified epochs'''\r\n",
        "    print('Starting training...')\r\n",
        "    start = time.time()\r\n",
        "\r\n",
        "    losses = []\r\n",
        "\r\n",
        "    for epoch in range(epochs):\r\n",
        "        h = net.init_hidden(batch_size)\r\n",
        "        running_loss = 0.\r\n",
        "        for i, data in enumerate(trainloader, 1):\r\n",
        "            input, label = data\r\n",
        "\r\n",
        "            optimizer.zero_grad()\r\n",
        "            net.zero_grad()\r\n",
        "\r\n",
        "            if model == 'GRU':\r\n",
        "                h = h.data\r\n",
        "            else:\r\n",
        "                h = tuple([h_.data for h_ in h])\r\n",
        "\r\n",
        "\r\n",
        "            out, h = net(input.to(device).float(), h)\r\n",
        "            loss = criterion(out, label.to(device).float())\r\n",
        "\r\n",
        "            loss.backward()\r\n",
        "            optimizer.step()\r\n",
        "\r\n",
        "            running_loss += loss.item()\r\n",
        "            losses.append(loss.item())\r\n",
        "\r\n",
        "            if i % 51 == 0:\r\n",
        "                print('Epoch: {} \\tStep: {}/{} \\tAverage loss: {}'.format(epoch+1, i, len(trainloader), running_loss/i))\r\n",
        "                \r\n",
        "\r\n",
        "    print('Training complete... Final Loss: {}\\nSeconds elapsed:{}'.format(loss, time.time()-start))\r\n",
        "    return net, losses\r\n",
        "\r\n",
        "\r\n",
        "lstm_net, lstm_loss = train(trainloader, lr, model='LSTM', n_layers=2, epochs=epochs)\r\n",
        "gru_net, gru_loss = train(trainloader, lr, model='GRU', n_layers=2, epochs=epochs)\r\n"
      ],
      "execution_count": 40,
      "outputs": [
        {
          "output_type": "stream",
          "text": [
            "Starting training...\n",
            "Epoch: 1 \tStep: 51/257 \tAverage loss: 2812.6365392348343\n",
            "Epoch: 1 \tStep: 102/257 \tAverage loss: 2658.105700922947\n",
            "Epoch: 1 \tStep: 153/257 \tAverage loss: 2559.0327794692093\n",
            "Epoch: 1 \tStep: 204/257 \tAverage loss: 2454.41943359375\n",
            "Epoch: 1 \tStep: 255/257 \tAverage loss: 2362.5470597809435\n",
            "Epoch: 2 \tStep: 51/257 \tAverage loss: 1739.375628303079\n",
            "Epoch: 2 \tStep: 102/257 \tAverage loss: 1652.136853386374\n",
            "Epoch: 2 \tStep: 153/257 \tAverage loss: 1566.7182852551828\n",
            "Epoch: 2 \tStep: 204/257 \tAverage loss: 1506.0789425419825\n",
            "Epoch: 2 \tStep: 255/257 \tAverage loss: 1456.1858826880361\n",
            "Epoch: 3 \tStep: 51/257 \tAverage loss: 1009.9900225471048\n",
            "Epoch: 3 \tStep: 102/257 \tAverage loss: 982.6317001043582\n",
            "Epoch: 3 \tStep: 153/257 \tAverage loss: 932.5586324454912\n",
            "Epoch: 3 \tStep: 204/257 \tAverage loss: 897.8560547174192\n",
            "Epoch: 3 \tStep: 255/257 \tAverage loss: 867.4811759799135\n",
            "Epoch: 4 \tStep: 51/257 \tAverage loss: 623.5107034421435\n",
            "Epoch: 4 \tStep: 102/257 \tAverage loss: 599.6475822598327\n",
            "Epoch: 4 \tStep: 153/257 \tAverage loss: 559.3599397247913\n",
            "Epoch: 4 \tStep: 204/257 \tAverage loss: 536.0497971703024\n",
            "Epoch: 4 \tStep: 255/257 \tAverage loss: 514.3327535591874\n",
            "Epoch: 5 \tStep: 51/257 \tAverage loss: 373.39814369351257\n",
            "Epoch: 5 \tStep: 102/257 \tAverage loss: 339.97279061523136\n",
            "Epoch: 5 \tStep: 153/257 \tAverage loss: 344.48202979019266\n",
            "Epoch: 5 \tStep: 204/257 \tAverage loss: 324.66622752301834\n",
            "Epoch: 5 \tStep: 255/257 \tAverage loss: 308.829994504592\n",
            "Epoch: 6 \tStep: 51/257 \tAverage loss: 244.58421871708887\n",
            "Epoch: 6 \tStep: 102/257 \tAverage loss: 217.1456210753497\n",
            "Epoch: 6 \tStep: 153/257 \tAverage loss: 210.72171598945567\n",
            "Epoch: 6 \tStep: 204/257 \tAverage loss: 206.37940627453375\n",
            "Epoch: 6 \tStep: 255/257 \tAverage loss: 202.59432411941827\n",
            "Epoch: 7 \tStep: 51/257 \tAverage loss: 172.89393264172125\n",
            "Epoch: 7 \tStep: 102/257 \tAverage loss: 164.62748520047057\n",
            "Epoch: 7 \tStep: 153/257 \tAverage loss: 161.19116375493067\n",
            "Epoch: 7 \tStep: 204/257 \tAverage loss: 158.97049287721222\n",
            "Epoch: 7 \tStep: 255/257 \tAverage loss: 153.44642372505336\n",
            "Epoch: 8 \tStep: 51/257 \tAverage loss: 158.6686482149012\n",
            "Epoch: 8 \tStep: 102/257 \tAverage loss: 142.53038690604416\n",
            "Epoch: 8 \tStep: 153/257 \tAverage loss: 135.2657092599308\n",
            "Epoch: 8 \tStep: 204/257 \tAverage loss: 136.25024921753828\n",
            "Epoch: 8 \tStep: 255/257 \tAverage loss: 134.9312197890936\n",
            "Epoch: 9 \tStep: 51/257 \tAverage loss: 130.01383040933047\n",
            "Epoch: 9 \tStep: 102/257 \tAverage loss: 128.42397639330696\n",
            "Epoch: 9 \tStep: 153/257 \tAverage loss: 129.04084311591254\n",
            "Epoch: 9 \tStep: 204/257 \tAverage loss: 128.32267947290458\n",
            "Epoch: 9 \tStep: 255/257 \tAverage loss: 127.51925873101926\n",
            "Epoch: 10 \tStep: 51/257 \tAverage loss: 143.0949779585296\n",
            "Epoch: 10 \tStep: 102/257 \tAverage loss: 133.23320650586894\n",
            "Epoch: 10 \tStep: 153/257 \tAverage loss: 130.44582844403834\n",
            "Epoch: 10 \tStep: 204/257 \tAverage loss: 129.81884929245592\n",
            "Epoch: 10 \tStep: 255/257 \tAverage loss: 126.0216500899371\n",
            "Training complete... Final Loss: 92.23986053466797\n",
            "Seconds elapsed:12.829911947250366\n",
            "Starting training...\n",
            "Epoch: 1 \tStep: 51/257 \tAverage loss: 2848.7065980200673\n",
            "Epoch: 1 \tStep: 102/257 \tAverage loss: 2638.3235318053003\n",
            "Epoch: 1 \tStep: 153/257 \tAverage loss: 2512.61794066585\n",
            "Epoch: 1 \tStep: 204/257 \tAverage loss: 2395.2134540034276\n",
            "Epoch: 1 \tStep: 255/257 \tAverage loss: 2260.351404766008\n",
            "Epoch: 2 \tStep: 51/257 \tAverage loss: 1588.698045917586\n",
            "Epoch: 2 \tStep: 102/257 \tAverage loss: 1486.022861256319\n",
            "Epoch: 2 \tStep: 153/257 \tAverage loss: 1426.3275425730187\n",
            "Epoch: 2 \tStep: 204/257 \tAverage loss: 1357.5741243549421\n",
            "Epoch: 2 \tStep: 255/257 \tAverage loss: 1287.284533811083\n",
            "Epoch: 3 \tStep: 51/257 \tAverage loss: 809.5747507132736\n",
            "Epoch: 3 \tStep: 102/257 \tAverage loss: 795.7763303868911\n",
            "Epoch: 3 \tStep: 153/257 \tAverage loss: 768.3355795667062\n",
            "Epoch: 3 \tStep: 204/257 \tAverage loss: 739.7839413063199\n",
            "Epoch: 3 \tStep: 255/257 \tAverage loss: 700.3005927590763\n",
            "Epoch: 4 \tStep: 51/257 \tAverage loss: 506.8910416247798\n",
            "Epoch: 4 \tStep: 102/257 \tAverage loss: 460.63924602433747\n",
            "Epoch: 4 \tStep: 153/257 \tAverage loss: 440.88440037397\n",
            "Epoch: 4 \tStep: 204/257 \tAverage loss: 404.2575538158417\n",
            "Epoch: 4 \tStep: 255/257 \tAverage loss: 383.48861492755367\n",
            "Epoch: 5 \tStep: 51/257 \tAverage loss: 266.485969730452\n",
            "Epoch: 5 \tStep: 102/257 \tAverage loss: 273.0713730980368\n",
            "Epoch: 5 \tStep: 153/257 \tAverage loss: 251.37987037110173\n",
            "Epoch: 5 \tStep: 204/257 \tAverage loss: 236.563716879078\n",
            "Epoch: 5 \tStep: 255/257 \tAverage loss: 225.66438792733584\n",
            "Epoch: 6 \tStep: 51/257 \tAverage loss: 172.49912918315215\n",
            "Epoch: 6 \tStep: 102/257 \tAverage loss: 167.20787114723055\n",
            "Epoch: 6 \tStep: 153/257 \tAverage loss: 166.70356672573712\n",
            "Epoch: 6 \tStep: 204/257 \tAverage loss: 163.0732515699723\n",
            "Epoch: 6 \tStep: 255/257 \tAverage loss: 158.76131905574425\n",
            "Epoch: 7 \tStep: 51/257 \tAverage loss: 145.04576608246447\n",
            "Epoch: 7 \tStep: 102/257 \tAverage loss: 139.98961076549455\n",
            "Epoch: 7 \tStep: 153/257 \tAverage loss: 137.14438611697528\n",
            "Epoch: 7 \tStep: 204/257 \tAverage loss: 133.68127213272393\n",
            "Epoch: 7 \tStep: 255/257 \tAverage loss: 134.58921290378944\n",
            "Epoch: 8 \tStep: 51/257 \tAverage loss: 129.37255156273935\n",
            "Epoch: 8 \tStep: 102/257 \tAverage loss: 121.81951590145336\n",
            "Epoch: 8 \tStep: 153/257 \tAverage loss: 123.94491195678711\n",
            "Epoch: 8 \tStep: 204/257 \tAverage loss: 124.17675404455147\n",
            "Epoch: 8 \tStep: 255/257 \tAverage loss: 127.24906730651855\n",
            "Epoch: 9 \tStep: 51/257 \tAverage loss: 118.51886850244858\n",
            "Epoch: 9 \tStep: 102/257 \tAverage loss: 121.91213157130223\n",
            "Epoch: 9 \tStep: 153/257 \tAverage loss: 125.27489927703259\n",
            "Epoch: 9 \tStep: 204/257 \tAverage loss: 126.62184457217946\n",
            "Epoch: 9 \tStep: 255/257 \tAverage loss: 125.26869399126838\n",
            "Epoch: 10 \tStep: 51/257 \tAverage loss: 121.0495090858609\n",
            "Epoch: 10 \tStep: 102/257 \tAverage loss: 122.2997239150253\n",
            "Epoch: 10 \tStep: 153/257 \tAverage loss: 124.77355473960927\n",
            "Epoch: 10 \tStep: 204/257 \tAverage loss: 122.14031917441125\n",
            "Epoch: 10 \tStep: 255/257 \tAverage loss: 125.0203004911834\n",
            "Training complete... Final Loss: 134.3230438232422\n",
            "Seconds elapsed:11.951967239379883\n"
          ],
          "name": "stdout"
        }
      ]
    },
    {
      "cell_type": "code",
      "metadata": {
        "colab": {
          "base_uri": "https://localhost:8080/",
          "height": 265
        },
        "id": "BnceNtXEQQ6d",
        "outputId": "b0f4e251-c86d-4569-dcb1-3699783c6fc8"
      },
      "source": [
        "fig, ax = plt.subplots()\r\n",
        "ax.plot(lstm_loss)\r\n",
        "ax.plot(gru_loss)\r\n",
        "plt.show()"
      ],
      "execution_count": 41,
      "outputs": [
        {
          "output_type": "display_data",
          "data": {
            "image/png": "[encoded data removed]",
            "text/plain": [
              "<Figure size 432x288 with 1 Axes>"
            ]
          },
          "metadata": {
            "tags": [],
            "needs_background": "light"
          }
        }
      ]
    },
    {
      "cell_type": "code",
      "metadata": {
        "id": "VQmIGdGmT-g2"
      },
      "source": [
        "'''\r\n",
        "TODO:\r\n",
        "get loss on test set and graph\r\n",
        "fit the original stock curve\r\n",
        "'''\r\n",
        "\r\n",
        "def validate(net, testloader, model='GRU'):\r\n",
        "    criterion = nn.MSELoss()\r\n",
        "    loss = 0\r\n",
        "\r\n",
        "    net.eval()\r\n",
        "\r\n",
        "    h = net.init_hidden(batch_size)\r\n",
        "    if model == 'GRU':\r\n",
        "        h = h.data\r\n",
        "    else:\r\n",
        "        h = tuple([h_ for h_ in h])\r\n",
        "    \r\n",
        "    for i, data in enumerate(testloader, 0):\r\n",
        "        input, label = data\r\n",
        "        input, label = input.to(device), label.to(device)\r\n",
        "        with torch.no_grad():\r\n",
        "            output, h = net(input, h)\r\n",
        "            loss += criterion(output, label.to(device).float())\r\n",
        "\r\n",
        "    return loss / len(testloader)\r\n",
        "\r\n",
        "gru_eval = validate(gru_net, testloader, model='GRU')\r\n",
        "lstm_eval = validate(lstm_net, testloader, model='LSTM')"
      ],
      "execution_count": 49,
      "outputs": []
    },
    {
      "cell_type": "code",
      "metadata": {
        "id": "aH3B2eTJU0Bb"
      },
      "source": [
        ""
      ],
      "execution_count": null,
      "outputs": []
    }
  ]
}